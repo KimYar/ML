{
  "nbformat": 4,
  "nbformat_minor": 0,
  "metadata": {
    "colab": {
      "name": "ANN_CyclePowerPlan.ipynb",
      "provenance": [],
      "mount_file_id": "1wLgQ7gGO_S6h1ho_4e2tAAo6IuLce2hA",
      "authorship_tag": "ABX9TyOf/nLX20VNWyz2pc1B226l"
    },
    "kernelspec": {
      "name": "python3",
      "display_name": "Python 3"
    },
    "language_info": {
      "name": "python"
    }
  },
  "cells": [
    {
      "cell_type": "code",
      "metadata": {
        "id": "zRlcbGOPPLeI"
      },
      "source": [
        "import numpy as np\n",
        "import pandas as pd\n",
        "import tensorflow as tf"
      ],
      "execution_count": 1,
      "outputs": []
    },
    {
      "cell_type": "code",
      "metadata": {
        "colab": {
          "base_uri": "https://localhost:8080/",
          "height": 37
        },
        "id": "2UILsSo1PW8e",
        "outputId": "af54dbb6-4b42-4ab4-ecac-f5c88e1261cc"
      },
      "source": [
        "tf.__version__"
      ],
      "execution_count": 2,
      "outputs": [
        {
          "output_type": "execute_result",
          "data": {
            "application/vnd.google.colaboratory.intrinsic+json": {
              "type": "string"
            },
            "text/plain": [
              "'2.6.0'"
            ]
          },
          "metadata": {},
          "execution_count": 2
        }
      ]
    },
    {
      "cell_type": "code",
      "metadata": {
        "id": "gSUmEbbMPcI3"
      },
      "source": [
        "#dataset Combined Cycle Power Plant Data Set \n",
        "#from https://archive.ics.uci.edu/ml/datasets/Combined+Cycle+Power+Plant\n",
        "\n",
        "df = pd.read_excel('/content/Folds5x2_pp.xlsx')"
      ],
      "execution_count": 4,
      "outputs": []
    },
    {
      "cell_type": "code",
      "metadata": {
        "colab": {
          "base_uri": "https://localhost:8080/",
          "height": 419
        },
        "id": "5SHTqIg6Q415",
        "outputId": "49a361f8-70ae-4736-cac4-a698e8675e0e"
      },
      "source": [
        "df"
      ],
      "execution_count": 5,
      "outputs": [
        {
          "output_type": "execute_result",
          "data": {
            "text/html": [
              "<div>\n",
              "<style scoped>\n",
              "    .dataframe tbody tr th:only-of-type {\n",
              "        vertical-align: middle;\n",
              "    }\n",
              "\n",
              "    .dataframe tbody tr th {\n",
              "        vertical-align: top;\n",
              "    }\n",
              "\n",
              "    .dataframe thead th {\n",
              "        text-align: right;\n",
              "    }\n",
              "</style>\n",
              "<table border=\"1\" class=\"dataframe\">\n",
              "  <thead>\n",
              "    <tr style=\"text-align: right;\">\n",
              "      <th></th>\n",
              "      <th>AT</th>\n",
              "      <th>V</th>\n",
              "      <th>AP</th>\n",
              "      <th>RH</th>\n",
              "      <th>PE</th>\n",
              "    </tr>\n",
              "  </thead>\n",
              "  <tbody>\n",
              "    <tr>\n",
              "      <th>0</th>\n",
              "      <td>14.96</td>\n",
              "      <td>41.76</td>\n",
              "      <td>1024.07</td>\n",
              "      <td>73.17</td>\n",
              "      <td>463.26</td>\n",
              "    </tr>\n",
              "    <tr>\n",
              "      <th>1</th>\n",
              "      <td>25.18</td>\n",
              "      <td>62.96</td>\n",
              "      <td>1020.04</td>\n",
              "      <td>59.08</td>\n",
              "      <td>444.37</td>\n",
              "    </tr>\n",
              "    <tr>\n",
              "      <th>2</th>\n",
              "      <td>5.11</td>\n",
              "      <td>39.40</td>\n",
              "      <td>1012.16</td>\n",
              "      <td>92.14</td>\n",
              "      <td>488.56</td>\n",
              "    </tr>\n",
              "    <tr>\n",
              "      <th>3</th>\n",
              "      <td>20.86</td>\n",
              "      <td>57.32</td>\n",
              "      <td>1010.24</td>\n",
              "      <td>76.64</td>\n",
              "      <td>446.48</td>\n",
              "    </tr>\n",
              "    <tr>\n",
              "      <th>4</th>\n",
              "      <td>10.82</td>\n",
              "      <td>37.50</td>\n",
              "      <td>1009.23</td>\n",
              "      <td>96.62</td>\n",
              "      <td>473.90</td>\n",
              "    </tr>\n",
              "    <tr>\n",
              "      <th>...</th>\n",
              "      <td>...</td>\n",
              "      <td>...</td>\n",
              "      <td>...</td>\n",
              "      <td>...</td>\n",
              "      <td>...</td>\n",
              "    </tr>\n",
              "    <tr>\n",
              "      <th>9563</th>\n",
              "      <td>16.65</td>\n",
              "      <td>49.69</td>\n",
              "      <td>1014.01</td>\n",
              "      <td>91.00</td>\n",
              "      <td>460.03</td>\n",
              "    </tr>\n",
              "    <tr>\n",
              "      <th>9564</th>\n",
              "      <td>13.19</td>\n",
              "      <td>39.18</td>\n",
              "      <td>1023.67</td>\n",
              "      <td>66.78</td>\n",
              "      <td>469.62</td>\n",
              "    </tr>\n",
              "    <tr>\n",
              "      <th>9565</th>\n",
              "      <td>31.32</td>\n",
              "      <td>74.33</td>\n",
              "      <td>1012.92</td>\n",
              "      <td>36.48</td>\n",
              "      <td>429.57</td>\n",
              "    </tr>\n",
              "    <tr>\n",
              "      <th>9566</th>\n",
              "      <td>24.48</td>\n",
              "      <td>69.45</td>\n",
              "      <td>1013.86</td>\n",
              "      <td>62.39</td>\n",
              "      <td>435.74</td>\n",
              "    </tr>\n",
              "    <tr>\n",
              "      <th>9567</th>\n",
              "      <td>21.60</td>\n",
              "      <td>62.52</td>\n",
              "      <td>1017.23</td>\n",
              "      <td>67.87</td>\n",
              "      <td>453.28</td>\n",
              "    </tr>\n",
              "  </tbody>\n",
              "</table>\n",
              "<p>9568 rows × 5 columns</p>\n",
              "</div>"
            ],
            "text/plain": [
              "         AT      V       AP     RH      PE\n",
              "0     14.96  41.76  1024.07  73.17  463.26\n",
              "1     25.18  62.96  1020.04  59.08  444.37\n",
              "2      5.11  39.40  1012.16  92.14  488.56\n",
              "3     20.86  57.32  1010.24  76.64  446.48\n",
              "4     10.82  37.50  1009.23  96.62  473.90\n",
              "...     ...    ...      ...    ...     ...\n",
              "9563  16.65  49.69  1014.01  91.00  460.03\n",
              "9564  13.19  39.18  1023.67  66.78  469.62\n",
              "9565  31.32  74.33  1012.92  36.48  429.57\n",
              "9566  24.48  69.45  1013.86  62.39  435.74\n",
              "9567  21.60  62.52  1017.23  67.87  453.28\n",
              "\n",
              "[9568 rows x 5 columns]"
            ]
          },
          "metadata": {},
          "execution_count": 5
        }
      ]
    },
    {
      "cell_type": "code",
      "metadata": {
        "id": "HaqIkMpxQ6OX"
      },
      "source": [
        "X = df.iloc[:, :-1].values\n",
        "y = df.iloc[:,-1].values"
      ],
      "execution_count": 6,
      "outputs": []
    },
    {
      "cell_type": "code",
      "metadata": {
        "id": "uwBxQyENRG4A"
      },
      "source": [
        "from sklearn.model_selection import train_test_split\n",
        "\n",
        "X_train, X_test, y_train, y_test = train_test_split(X, y, test_size = 0.2, random_state= 42 )"
      ],
      "execution_count": 7,
      "outputs": []
    },
    {
      "cell_type": "code",
      "metadata": {
        "id": "atOIqPqtRTf5"
      },
      "source": [
        "from sklearn.preprocessing import StandardScaler\n",
        "\n",
        "sc = StandardScaler()\n",
        "\n",
        "X_train = sc.fit_transform(X_train)\n",
        "X_test = sc.transform(X_test)"
      ],
      "execution_count": 9,
      "outputs": []
    },
    {
      "cell_type": "code",
      "metadata": {
        "id": "AuIJhLx0RjOs"
      },
      "source": [
        "ann = tf.keras.models.Sequential()"
      ],
      "execution_count": 10,
      "outputs": []
    },
    {
      "cell_type": "code",
      "metadata": {
        "id": "9bh2D3avRtFy"
      },
      "source": [
        "ann.add(tf.keras.layers.Dense(units=6, activation='relu'))\n",
        "ann.add(tf.keras.layers.Dense(units=6, activation='relu'))\n",
        "ann.add(tf.keras.layers.Dense(units=1))\n",
        "ann.compile(optimizer='adam', loss='mean_squared_error')"
      ],
      "execution_count": 15,
      "outputs": []
    },
    {
      "cell_type": "code",
      "metadata": {
        "colab": {
          "base_uri": "https://localhost:8080/"
        },
        "id": "clD_KEmhTsex",
        "outputId": "1ff78f03-641f-43b0-9fc9-7dc0e1880855"
      },
      "source": [
        "ann.fit(X_train, y_train, batch_size=32, epochs=100)"
      ],
      "execution_count": 16,
      "outputs": [
        {
          "output_type": "stream",
          "name": "stdout",
          "text": [
            "Epoch 1/100\n",
            "240/240 [==============================] - 1s 1ms/step - loss: 205641.6094\n",
            "Epoch 2/100\n",
            "240/240 [==============================] - 0s 1ms/step - loss: 200025.4219\n",
            "Epoch 3/100\n",
            "240/240 [==============================] - 0s 1ms/step - loss: 180868.6562\n",
            "Epoch 4/100\n",
            "240/240 [==============================] - 0s 1ms/step - loss: 144363.0625\n",
            "Epoch 5/100\n",
            "240/240 [==============================] - 0s 1ms/step - loss: 96971.7969\n",
            "Epoch 6/100\n",
            "240/240 [==============================] - 0s 1ms/step - loss: 51510.8047\n",
            "Epoch 7/100\n",
            "240/240 [==============================] - 0s 1ms/step - loss: 20013.6562\n",
            "Epoch 8/100\n",
            "240/240 [==============================] - 0s 1ms/step - loss: 5318.9648\n",
            "Epoch 9/100\n",
            "240/240 [==============================] - 0s 1ms/step - loss: 1088.6259\n",
            "Epoch 10/100\n",
            "240/240 [==============================] - 0s 1ms/step - loss: 369.7054\n",
            "Epoch 11/100\n",
            "240/240 [==============================] - 0s 1ms/step - loss: 296.1893\n",
            "Epoch 12/100\n",
            "240/240 [==============================] - 0s 1ms/step - loss: 291.7361\n",
            "Epoch 13/100\n",
            "240/240 [==============================] - 0s 1ms/step - loss: 291.6287\n",
            "Epoch 14/100\n",
            "240/240 [==============================] - 0s 1ms/step - loss: 291.5312\n",
            "Epoch 15/100\n",
            "240/240 [==============================] - 0s 1ms/step - loss: 291.5588\n",
            "Epoch 16/100\n",
            "240/240 [==============================] - 0s 1ms/step - loss: 291.6469\n",
            "Epoch 17/100\n",
            "240/240 [==============================] - 0s 1ms/step - loss: 291.6146\n",
            "Epoch 18/100\n",
            "240/240 [==============================] - 0s 1ms/step - loss: 291.6203\n",
            "Epoch 19/100\n",
            "240/240 [==============================] - 0s 1ms/step - loss: 291.5155\n",
            "Epoch 20/100\n",
            "240/240 [==============================] - 0s 1ms/step - loss: 291.6060\n",
            "Epoch 21/100\n",
            "240/240 [==============================] - 0s 1ms/step - loss: 291.6360\n",
            "Epoch 22/100\n",
            "240/240 [==============================] - 0s 1ms/step - loss: 291.6803\n",
            "Epoch 23/100\n",
            "240/240 [==============================] - 0s 1ms/step - loss: 291.6729\n",
            "Epoch 24/100\n",
            "240/240 [==============================] - 0s 1ms/step - loss: 291.6277\n",
            "Epoch 25/100\n",
            "240/240 [==============================] - 0s 1ms/step - loss: 291.6896\n",
            "Epoch 26/100\n",
            "240/240 [==============================] - 0s 1ms/step - loss: 291.5524\n",
            "Epoch 27/100\n",
            "240/240 [==============================] - 0s 1ms/step - loss: 291.5316\n",
            "Epoch 28/100\n",
            "240/240 [==============================] - 0s 1ms/step - loss: 291.7639\n",
            "Epoch 29/100\n",
            "240/240 [==============================] - 0s 1ms/step - loss: 291.7127\n",
            "Epoch 30/100\n",
            "240/240 [==============================] - 0s 1ms/step - loss: 291.8170\n",
            "Epoch 31/100\n",
            "240/240 [==============================] - 0s 1ms/step - loss: 291.8318\n",
            "Epoch 32/100\n",
            "240/240 [==============================] - 0s 1ms/step - loss: 291.8650\n",
            "Epoch 33/100\n",
            "240/240 [==============================] - 0s 1ms/step - loss: 292.0631\n",
            "Epoch 34/100\n",
            "240/240 [==============================] - 0s 1ms/step - loss: 291.9747\n",
            "Epoch 35/100\n",
            "240/240 [==============================] - 0s 1ms/step - loss: 291.7162\n",
            "Epoch 36/100\n",
            "240/240 [==============================] - 0s 1ms/step - loss: 291.9020\n",
            "Epoch 37/100\n",
            "240/240 [==============================] - 0s 1ms/step - loss: 292.0634\n",
            "Epoch 38/100\n",
            "240/240 [==============================] - 0s 1ms/step - loss: 291.9601\n",
            "Epoch 39/100\n",
            "240/240 [==============================] - 0s 1ms/step - loss: 292.2876\n",
            "Epoch 40/100\n",
            "240/240 [==============================] - 0s 1ms/step - loss: 291.9924\n",
            "Epoch 41/100\n",
            "240/240 [==============================] - 0s 1ms/step - loss: 292.0614\n",
            "Epoch 42/100\n",
            "240/240 [==============================] - 0s 1ms/step - loss: 292.6076\n",
            "Epoch 43/100\n",
            "240/240 [==============================] - 0s 2ms/step - loss: 292.1547\n",
            "Epoch 44/100\n",
            "240/240 [==============================] - 0s 1ms/step - loss: 291.8648\n",
            "Epoch 45/100\n",
            "240/240 [==============================] - 0s 1ms/step - loss: 292.2526\n",
            "Epoch 46/100\n",
            "240/240 [==============================] - 0s 1ms/step - loss: 291.8537\n",
            "Epoch 47/100\n",
            "240/240 [==============================] - 0s 1ms/step - loss: 292.0476\n",
            "Epoch 48/100\n",
            "240/240 [==============================] - 0s 1ms/step - loss: 292.6131\n",
            "Epoch 49/100\n",
            "240/240 [==============================] - 0s 1ms/step - loss: 292.4534\n",
            "Epoch 50/100\n",
            "240/240 [==============================] - 0s 1ms/step - loss: 292.2877\n",
            "Epoch 51/100\n",
            "240/240 [==============================] - 0s 1ms/step - loss: 292.2622\n",
            "Epoch 52/100\n",
            "240/240 [==============================] - 0s 1ms/step - loss: 292.5326\n",
            "Epoch 53/100\n",
            "240/240 [==============================] - 0s 1ms/step - loss: 292.1780\n",
            "Epoch 54/100\n",
            "240/240 [==============================] - 0s 1ms/step - loss: 292.1258\n",
            "Epoch 55/100\n",
            "240/240 [==============================] - 0s 1ms/step - loss: 292.0817\n",
            "Epoch 56/100\n",
            "240/240 [==============================] - 0s 1ms/step - loss: 292.3730\n",
            "Epoch 57/100\n",
            "240/240 [==============================] - 0s 1ms/step - loss: 292.0518\n",
            "Epoch 58/100\n",
            "240/240 [==============================] - 0s 1ms/step - loss: 292.3098\n",
            "Epoch 59/100\n",
            "240/240 [==============================] - 0s 1ms/step - loss: 292.4638\n",
            "Epoch 60/100\n",
            "240/240 [==============================] - 0s 1ms/step - loss: 291.8756\n",
            "Epoch 61/100\n",
            "240/240 [==============================] - 0s 1ms/step - loss: 292.3810\n",
            "Epoch 62/100\n",
            "240/240 [==============================] - 0s 2ms/step - loss: 292.8197\n",
            "Epoch 63/100\n",
            "240/240 [==============================] - 0s 1ms/step - loss: 292.2997\n",
            "Epoch 64/100\n",
            "240/240 [==============================] - 0s 1ms/step - loss: 292.2363\n",
            "Epoch 65/100\n",
            "240/240 [==============================] - 0s 1ms/step - loss: 292.1837\n",
            "Epoch 66/100\n",
            "240/240 [==============================] - 0s 1ms/step - loss: 291.9426\n",
            "Epoch 67/100\n",
            "240/240 [==============================] - 0s 1ms/step - loss: 292.3054\n",
            "Epoch 68/100\n",
            "240/240 [==============================] - 0s 1ms/step - loss: 292.2495\n",
            "Epoch 69/100\n",
            "240/240 [==============================] - 0s 1ms/step - loss: 292.6714\n",
            "Epoch 70/100\n",
            "240/240 [==============================] - 0s 1ms/step - loss: 292.0862\n",
            "Epoch 71/100\n",
            "240/240 [==============================] - 0s 1ms/step - loss: 292.1839\n",
            "Epoch 72/100\n",
            "240/240 [==============================] - 0s 1ms/step - loss: 292.8437\n",
            "Epoch 73/100\n",
            "240/240 [==============================] - 0s 1ms/step - loss: 292.3034\n",
            "Epoch 74/100\n",
            "240/240 [==============================] - 0s 1ms/step - loss: 291.9379\n",
            "Epoch 75/100\n",
            "240/240 [==============================] - 0s 1ms/step - loss: 292.2675\n",
            "Epoch 76/100\n",
            "240/240 [==============================] - 0s 1ms/step - loss: 292.3039\n",
            "Epoch 77/100\n",
            "240/240 [==============================] - 0s 1ms/step - loss: 292.1990\n",
            "Epoch 78/100\n",
            "240/240 [==============================] - 0s 1ms/step - loss: 292.2654\n",
            "Epoch 79/100\n",
            "240/240 [==============================] - 0s 1ms/step - loss: 292.1701\n",
            "Epoch 80/100\n",
            "240/240 [==============================] - 0s 1ms/step - loss: 292.3742\n",
            "Epoch 81/100\n",
            "240/240 [==============================] - 0s 1ms/step - loss: 292.0472\n",
            "Epoch 82/100\n",
            "240/240 [==============================] - 0s 1ms/step - loss: 292.5076\n",
            "Epoch 83/100\n",
            "240/240 [==============================] - 0s 1ms/step - loss: 292.1066\n",
            "Epoch 84/100\n",
            "240/240 [==============================] - 0s 1ms/step - loss: 292.0443\n",
            "Epoch 85/100\n",
            "240/240 [==============================] - 0s 1ms/step - loss: 291.8514\n",
            "Epoch 86/100\n",
            "240/240 [==============================] - 0s 1ms/step - loss: 292.3836\n",
            "Epoch 87/100\n",
            "240/240 [==============================] - 0s 1ms/step - loss: 291.9226\n",
            "Epoch 88/100\n",
            "240/240 [==============================] - 0s 1ms/step - loss: 292.1487\n",
            "Epoch 89/100\n",
            "240/240 [==============================] - 0s 1ms/step - loss: 292.3601\n",
            "Epoch 90/100\n",
            "240/240 [==============================] - 0s 1ms/step - loss: 291.7713\n",
            "Epoch 91/100\n",
            "240/240 [==============================] - 0s 1ms/step - loss: 292.1776\n",
            "Epoch 92/100\n",
            "240/240 [==============================] - 0s 1ms/step - loss: 292.3243\n",
            "Epoch 93/100\n",
            "240/240 [==============================] - 0s 1ms/step - loss: 292.3132\n",
            "Epoch 94/100\n",
            "240/240 [==============================] - 0s 2ms/step - loss: 292.1751\n",
            "Epoch 95/100\n",
            "240/240 [==============================] - 0s 1ms/step - loss: 291.8154\n",
            "Epoch 96/100\n",
            "240/240 [==============================] - 0s 1ms/step - loss: 292.3956\n",
            "Epoch 97/100\n",
            "240/240 [==============================] - 0s 1ms/step - loss: 293.0272\n",
            "Epoch 98/100\n",
            "240/240 [==============================] - 0s 1ms/step - loss: 293.0418\n",
            "Epoch 99/100\n",
            "240/240 [==============================] - 0s 1ms/step - loss: 292.3303\n",
            "Epoch 100/100\n",
            "240/240 [==============================] - 0s 1ms/step - loss: 292.1497\n"
          ]
        },
        {
          "output_type": "execute_result",
          "data": {
            "text/plain": [
              "<keras.callbacks.History at 0x7f7980839410>"
            ]
          },
          "metadata": {},
          "execution_count": 16
        }
      ]
    },
    {
      "cell_type": "code",
      "metadata": {
        "id": "N7WsiRUbUE5V"
      },
      "source": [
        "y_pred = ann.predict(X_test)\n",
        "np.set_printoptions(precision=2)"
      ],
      "execution_count": 24,
      "outputs": []
    },
    {
      "cell_type": "code",
      "metadata": {
        "colab": {
          "base_uri": "https://localhost:8080/"
        },
        "id": "QWMCsYSpmZPo",
        "outputId": "edc0dd4d-ae4f-4105-b58a-04142583f171"
      },
      "source": [
        "print(np.concatenate((y_pred.reshape(len(y_pred), 1), y_test.reshape(len(y_test), 1)), 1))"
      ],
      "execution_count": 33,
      "outputs": [
        {
          "output_type": "stream",
          "name": "stdout",
          "text": [
            "[[453.8  455.27]\n",
            " [453.8  436.31]\n",
            " [453.8  440.68]\n",
            " ...\n",
            " [453.8  479.53]\n",
            " [453.8  435.76]\n",
            " [453.8  457.1 ]]\n"
          ]
        }
      ]
    }
  ]
}