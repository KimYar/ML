{
  "nbformat": 4,
  "nbformat_minor": 0,
  "metadata": {
    "colab": {
      "name": "ClassificationModelSelection_Template.ipynb",
      "provenance": [],
      "mount_file_id": "14lPia4GPPHDhzJ0Gnrm3n7xpJ9l5UySW",
      "authorship_tag": "ABX9TyOVDJ3Qa5rDtBF7OmVlqPnt",
      "include_colab_link": true
    },
    "kernelspec": {
      "name": "python3",
      "display_name": "Python 3"
    },
    "language_info": {
      "name": "python"
    }
  },
  "cells": [
    {
      "cell_type": "markdown",
      "metadata": {
        "id": "view-in-github",
        "colab_type": "text"
      },
      "source": [
        "<a href=\"https://colab.research.google.com/github/KimYar/ML/blob/main/ClassificationModelSelection_Template.ipynb\" target=\"_parent\"><img src=\"https://colab.research.google.com/assets/colab-badge.svg\" alt=\"Open In Colab\"/></a>"
      ]
    },
    {
      "cell_type": "code",
      "metadata": {
        "id": "0bJXLln17yTo"
      },
      "source": [
        "import numpy as np\n",
        "import pandas as pd\n",
        "import matplotlib.pyplot as plt"
      ],
      "execution_count": null,
      "outputs": []
    },
    {
      "cell_type": "code",
      "metadata": {
        "id": "dxgxVdes8zUX"
      },
      "source": [
        "df = pd.read_csv('/content/Data.csv')"
      ],
      "execution_count": null,
      "outputs": []
    },
    {
      "cell_type": "code",
      "metadata": {
        "id": "Fmq0zve182ku"
      },
      "source": [
        "X = df.iloc[:,1:-1].values\n",
        "y = df.iloc[:,-1].values"
      ],
      "execution_count": null,
      "outputs": []
    },
    {
      "cell_type": "code",
      "metadata": {
        "id": "DZBR3EaT9ASE"
      },
      "source": [
        "from sklearn.model_selection import train_test_split\n",
        "\n",
        "X_train, X_test, y_train, y_test = train_test_split(X, y, test_size= 0.2, random_state=85)"
      ],
      "execution_count": null,
      "outputs": []
    },
    {
      "cell_type": "markdown",
      "metadata": {
        "id": "S8uwLhhIID1D"
      },
      "source": [
        "**Feature Scaling:**"
      ]
    },
    {
      "cell_type": "code",
      "metadata": {
        "id": "Dklk3WGH9P3G"
      },
      "source": [
        "#If needed\n",
        "#from sklearn.preprocessing import StandardScaler\n",
        "\n",
        "#sc = StandardScaler()\n",
        "\n",
        "#X_train = sc.fit_transform(X_train)\n",
        "#X_test = sc.transform(X_test)"
      ],
      "execution_count": null,
      "outputs": []
    },
    {
      "cell_type": "markdown",
      "metadata": {
        "id": "7yURXlbbIHJW"
      },
      "source": [
        "**Logistic Regression:**"
      ]
    },
    {
      "cell_type": "code",
      "metadata": {
        "id": "j9jlYeMA9eqE"
      },
      "source": [
        "from sklearn.linear_model import LogisticRegression\n",
        "\n",
        "classifier_lin = LogisticRegression(random_state=85)\n",
        "\n",
        "classifier_lin.fit(X_train, y_train)\n",
        "\n",
        "y_pred_lin = classifier_lin.predict(X_test)\n"
      ],
      "execution_count": null,
      "outputs": []
    },
    {
      "cell_type": "markdown",
      "metadata": {
        "id": "twjhIWyZIKVk"
      },
      "source": [
        "**K-Nearest Neighbor:**"
      ]
    },
    {
      "cell_type": "code",
      "metadata": {
        "id": "qXOkNiBtPiCr"
      },
      "source": [
        "from sklearn.neighbors import KNeighborsClassifier\n",
        "\n",
        "classifier_knn = KNeighborsClassifier(n_neighbors=5, metric='minkowski', p=2)\n",
        "\n",
        "classifier_knn.fit(X_train, y_train)\n",
        "\n",
        "y_pred_knn = classifier_knn.predict(X_test)"
      ],
      "execution_count": null,
      "outputs": []
    },
    {
      "cell_type": "markdown",
      "metadata": {
        "id": "SS0pZxxNIPFV"
      },
      "source": [
        "**Support Vector Machine:**"
      ]
    },
    {
      "cell_type": "code",
      "metadata": {
        "id": "H_YZC6MK93ix"
      },
      "source": [
        "from sklearn.svm import SVC\n",
        "\n",
        "classifier_svm = SVC(kernel= 'linear', random_state=85)\n",
        "\n",
        "classifier_svm.fit(X_train, y_train)\n",
        "\n",
        "y_pred_svm = classifier_svm.predict(X_test)"
      ],
      "execution_count": null,
      "outputs": []
    },
    {
      "cell_type": "markdown",
      "metadata": {
        "id": "VvvdBFbnIS-Q"
      },
      "source": [
        "**Kernel SVM:**"
      ]
    },
    {
      "cell_type": "code",
      "metadata": {
        "id": "j0_ph_ri-DxD"
      },
      "source": [
        "from sklearn.svm import SVC\n",
        "\n",
        "classifier_ksvm = SVC(kernel='rbf', random_state=85)\n",
        "\n",
        "classifier_ksvm.fit(X_train, y_train)\n",
        "\n",
        "y_pred_ksvm = classifier_ksvm.predict(X_test)"
      ],
      "execution_count": null,
      "outputs": []
    },
    {
      "cell_type": "markdown",
      "metadata": {
        "id": "Jk-WnPPDIXIa"
      },
      "source": [
        "**Naive Bayes:**"
      ]
    },
    {
      "cell_type": "code",
      "metadata": {
        "id": "45PCDUR8-ThC"
      },
      "source": [
        "from sklearn.naive_bayes import GaussianNB\n",
        "\n",
        "classifier_nb = GaussianNB()\n",
        "\n",
        "classifier_nb.fit(X_train, y_train)\n",
        "\n",
        "y_pred_nb = classifier_nb.predict(X_test)"
      ],
      "execution_count": null,
      "outputs": []
    },
    {
      "cell_type": "markdown",
      "metadata": {
        "id": "HC5fS1mqIbbx"
      },
      "source": [
        "**Decision Tree:**"
      ]
    },
    {
      "cell_type": "code",
      "metadata": {
        "id": "0HuUhARi-IDT"
      },
      "source": [
        "from sklearn.tree import DecisionTreeClassifier\n",
        "\n",
        "classifier_tree = DecisionTreeClassifier(criterion='entropy', random_state=85)\n",
        "\n",
        "classifier_tree.fit(X_train, y_train)\n",
        "\n",
        "y_pred_tree = classifier_tree.predict(X_test)"
      ],
      "execution_count": null,
      "outputs": []
    },
    {
      "cell_type": "markdown",
      "metadata": {
        "id": "gNiW31VIIe07"
      },
      "source": [
        "**Random Forest:**"
      ]
    },
    {
      "cell_type": "code",
      "metadata": {
        "id": "h6FyshTH-onL"
      },
      "source": [
        "from sklearn.ensemble import RandomForestClassifier\n",
        "\n",
        "classifier_rf = RandomForestClassifier(n_estimators=10, criterion='entropy', random_state=85)\n",
        "\n",
        "classifier_rf.fit(X_train, y_train)\n",
        "\n",
        "y_pred_rf = classifier_rf.predict(X_test)"
      ],
      "execution_count": null,
      "outputs": []
    },
    {
      "cell_type": "markdown",
      "metadata": {
        "id": "zZ4wbPJZIiYJ"
      },
      "source": [
        "**Evaluation:**"
      ]
    },
    {
      "cell_type": "code",
      "metadata": {
        "id": "DKn40gTcNBnr"
      },
      "source": [
        "from sklearn.metrics import confusion_matrix, accuracy_score\n",
        "\n",
        "acc_reg = accuracy_score(y_test, y_pred_lin)\n",
        "acc_kn = accuracy_score(y_true=y_test, y_pred=y_pred_knn)\n",
        "acc_svm = accuracy_score(y_true=y_test, y_pred=y_pred_svm)\n",
        "acc_ksvm = accuracy_score(y_true=y_test, y_pred=y_pred_ksvm)\n",
        "acc_nb = accuracy_score(y_true=y_test, y_pred=y_pred_nb)\n",
        "acc_tree = accuracy_score(y_true=y_test, y_pred=y_pred_tree)\n",
        "acc_rf = accuracy_score(y_true=y_test, y_pred=y_pred_rf)"
      ],
      "execution_count": null,
      "outputs": []
    },
    {
      "cell_type": "code",
      "metadata": {
        "colab": {
          "base_uri": "https://localhost:8080/",
          "height": 266
        },
        "id": "j44Ao0BJ-89U",
        "outputId": "11253e61-0c34-4967-c3e9-84f51ac51188"
      },
      "source": [
        "pd.DataFrame(data=np.array([['Logestic Regression',acc_reg], ['K-NN',acc_kn],['SVM',acc_svm], ['Kernel SVM', acc_ksvm], ['Naive Bayes', acc_nb], ['Decision Tree', acc_tree], ['Random Forest', acc_rf]]), columns=['Model', 'Accu'])"
      ],
      "execution_count": null,
      "outputs": [
        {
          "output_type": "execute_result",
          "data": {
            "text/html": [
              "<div>\n",
              "<style scoped>\n",
              "    .dataframe tbody tr th:only-of-type {\n",
              "        vertical-align: middle;\n",
              "    }\n",
              "\n",
              "    .dataframe tbody tr th {\n",
              "        vertical-align: top;\n",
              "    }\n",
              "\n",
              "    .dataframe thead th {\n",
              "        text-align: right;\n",
              "    }\n",
              "</style>\n",
              "<table border=\"1\" class=\"dataframe\">\n",
              "  <thead>\n",
              "    <tr style=\"text-align: right;\">\n",
              "      <th></th>\n",
              "      <th>Model</th>\n",
              "      <th>Accu</th>\n",
              "    </tr>\n",
              "  </thead>\n",
              "  <tbody>\n",
              "    <tr>\n",
              "      <th>0</th>\n",
              "      <td>Logestic Regression</td>\n",
              "      <td>0.9708029197080292</td>\n",
              "    </tr>\n",
              "    <tr>\n",
              "      <th>1</th>\n",
              "      <td>K-NN</td>\n",
              "      <td>0.9708029197080292</td>\n",
              "    </tr>\n",
              "    <tr>\n",
              "      <th>2</th>\n",
              "      <td>SVM</td>\n",
              "      <td>0.9635036496350365</td>\n",
              "    </tr>\n",
              "    <tr>\n",
              "      <th>3</th>\n",
              "      <td>Kernel SVM</td>\n",
              "      <td>0.9708029197080292</td>\n",
              "    </tr>\n",
              "    <tr>\n",
              "      <th>4</th>\n",
              "      <td>Naive Bayes</td>\n",
              "      <td>0.9635036496350365</td>\n",
              "    </tr>\n",
              "    <tr>\n",
              "      <th>5</th>\n",
              "      <td>Decision Tree</td>\n",
              "      <td>0.927007299270073</td>\n",
              "    </tr>\n",
              "    <tr>\n",
              "      <th>6</th>\n",
              "      <td>Random Forest</td>\n",
              "      <td>0.948905109489051</td>\n",
              "    </tr>\n",
              "  </tbody>\n",
              "</table>\n",
              "</div>"
            ],
            "text/plain": [
              "                 Model                Accu\n",
              "0  Logestic Regression  0.9708029197080292\n",
              "1                 K-NN  0.9708029197080292\n",
              "2                  SVM  0.9635036496350365\n",
              "3           Kernel SVM  0.9708029197080292\n",
              "4          Naive Bayes  0.9635036496350365\n",
              "5        Decision Tree   0.927007299270073\n",
              "6        Random Forest   0.948905109489051"
            ]
          },
          "metadata": {},
          "execution_count": 14
        }
      ]
    }
  ]
}