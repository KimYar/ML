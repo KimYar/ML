{
  "nbformat": 4,
  "nbformat_minor": 0,
  "metadata": {
    "colab": {
      "name": "RegressionModelsSelection_Template.ipynb",
      "provenance": [],
      "mount_file_id": "1hxQariZwhSW3uuD3OP4-PdoqOwS4_WAn",
      "authorship_tag": "ABX9TyMl/ABa3FYEnfXRJZVzva+8",
      "include_colab_link": true
    },
    "kernelspec": {
      "name": "python3",
      "display_name": "Python 3"
    },
    "language_info": {
      "name": "python"
    }
  },
  "cells": [
    {
      "cell_type": "markdown",
      "metadata": {
        "id": "view-in-github",
        "colab_type": "text"
      },
      "source": [
        "<a href=\"https://colab.research.google.com/github/KimYar/ML/blob/main/RegressionModelsSelection_Template.ipynb\" target=\"_parent\"><img src=\"https://colab.research.google.com/assets/colab-badge.svg\" alt=\"Open In Colab\"/></a>"
      ]
    },
    {
      "cell_type": "markdown",
      "metadata": {
        "id": "1awbsHvvU7hX"
      },
      "source": [
        "Importing libraries, dataset, splitting dataset:"
      ]
    },
    {
      "cell_type": "code",
      "metadata": {
        "id": "KynGfeX9COr0"
      },
      "source": [
        "import numpy as np\n",
        "import pandas as pd\n",
        "import matplotlib.pyplot as plt"
      ],
      "execution_count": null,
      "outputs": []
    },
    {
      "cell_type": "code",
      "metadata": {
        "id": "FGAsLbatCTXe"
      },
      "source": [
        "df = pd.read_csv('/content/drive/MyDrive/Colab Notebooks/Machine Learning A-Z (Codes and Datasets)/Copy of Data.csv')"
      ],
      "execution_count": null,
      "outputs": []
    },
    {
      "cell_type": "code",
      "metadata": {
        "id": "g2lB-ZCZCVfN"
      },
      "source": [
        "X = df.iloc[:,:-1].values #Features/independent variables\n",
        "y = df.iloc[:,-1].values #Dependent variable"
      ],
      "execution_count": null,
      "outputs": []
    },
    {
      "cell_type": "code",
      "metadata": {
        "id": "9xqOe6Q7GAck"
      },
      "source": [
        "from sklearn.model_selection import train_test_split\n",
        "X_train, X_test, y_train, y_test = train_test_split(X, y, test_size= 0.2, random_state=0)"
      ],
      "execution_count": null,
      "outputs": []
    },
    {
      "cell_type": "markdown",
      "metadata": {
        "id": "iVp3Uu5DVffB"
      },
      "source": [
        "**Simple/Multiple Linear Regression:**"
      ]
    },
    {
      "cell_type": "code",
      "metadata": {
        "id": "pGlGOUP3GVAk"
      },
      "source": [
        "from sklearn.linear_model import LinearRegression\n",
        "regressor_linear = LinearRegression()\n",
        "regressor_linear.fit(X_train,y_train)\n",
        "\n",
        "y_pred_linear = regressor_linear.predict(X_test)"
      ],
      "execution_count": null,
      "outputs": []
    },
    {
      "cell_type": "markdown",
      "metadata": {
        "id": "VYyp2fekVqyy"
      },
      "source": [
        "**Polynomial Regression:**"
      ]
    },
    {
      "cell_type": "code",
      "metadata": {
        "id": "I9qnbUtZRi_X"
      },
      "source": [
        "from sklearn.preprocessing import PolynomialFeatures\n",
        "poly_reg = PolynomialFeatures(degree=4)\n",
        "X_poly = poly_reg.fit_transform(X)\n",
        "\n",
        "X_train_poly, X_test_poly, y_train_poly, y_test_poly = train_test_split(X_poly, y, test_size=0.2, random_state=0)\n",
        "\n",
        "\n",
        "regressor_poly = LinearRegression()\n",
        "regressor_poly.fit(X_train_poly, y_train_poly)\n",
        "y_pred_poly = regressor_poly.predict(X_test_poly)"
      ],
      "execution_count": null,
      "outputs": []
    },
    {
      "cell_type": "markdown",
      "metadata": {
        "id": "qJe1JVQWVS6j"
      },
      "source": [
        "**Support Vector Regression (SVR):**"
      ]
    },
    {
      "cell_type": "code",
      "metadata": {
        "colab": {
          "base_uri": "https://localhost:8080/"
        },
        "id": "lgEHFOCuHego",
        "outputId": "fed80f9c-8152-427b-ff80-feca6e52ed29"
      },
      "source": [
        "from sklearn.preprocessing import StandardScaler\n",
        "sc_X = StandardScaler()\n",
        "sc_y = StandardScaler()\n",
        "\n",
        "y_svr = y.reshape(len(y),1)\n",
        "\n",
        "X_svr = sc_X.fit_transform(X)\n",
        "y_svr = sc_y.fit_transform(y_svr)\n",
        "\n",
        "X_train_svr, X_test_svr, y_train_svr, y_test_svr = train_test_split(X_svr, y_svr, test_size =0.2, random_state=0)\n",
        "\n",
        "\n",
        "from sklearn.svm import SVR\n",
        "regressor_svr = SVR(kernel='rbf')\n",
        "regressor_svr.fit(X_train_svr, y_train_svr)\n",
        "y_pred_svr = sc_y.inverse_transform(regressor_svr.predict(X_test_svr))"
      ],
      "execution_count": null,
      "outputs": [
        {
          "output_type": "stream",
          "text": [
            "/usr/local/lib/python3.7/dist-packages/sklearn/utils/validation.py:760: DataConversionWarning: A column-vector y was passed when a 1d array was expected. Please change the shape of y to (n_samples, ), for example using ravel().\n",
            "  y = column_or_1d(y, warn=True)\n"
          ],
          "name": "stderr"
        }
      ]
    },
    {
      "cell_type": "markdown",
      "metadata": {
        "id": "fFQapPFrVjIq"
      },
      "source": [
        "**Decision Tree Regression:**"
      ]
    },
    {
      "cell_type": "code",
      "metadata": {
        "id": "RrOCTw6XIi5c"
      },
      "source": [
        "from sklearn.tree import DecisionTreeRegressor\n",
        "regressor_dt = DecisionTreeRegressor(random_state=0)\n",
        "regressor_dt.fit(X_train, y_train)\n",
        "y_pred_dt = regressor_dt.predict(X_test)"
      ],
      "execution_count": null,
      "outputs": []
    },
    {
      "cell_type": "markdown",
      "metadata": {
        "id": "yLYWTXNgVnQN"
      },
      "source": [
        "**Random Forest Regression:**"
      ]
    },
    {
      "cell_type": "code",
      "metadata": {
        "id": "1uL0I8BTI6HF"
      },
      "source": [
        "from sklearn.ensemble import RandomForestRegressor\n",
        "regressor_rf = RandomForestRegressor(n_estimators=10)\n",
        "regressor_rf.fit(X_train, y_train)\n",
        "y_pred_rf = regressor_rf.predict(X_test)"
      ],
      "execution_count": null,
      "outputs": []
    },
    {
      "cell_type": "markdown",
      "metadata": {
        "id": "S-hh5eKwVunq"
      },
      "source": [
        "**Evaluation R square:**"
      ]
    },
    {
      "cell_type": "code",
      "metadata": {
        "id": "jy_dIlkjJlP5"
      },
      "source": [
        "from sklearn.metrics import r2_score\n",
        "\n",
        "metric_rf = r2_score(y_test, y_pred_rf)\n",
        "metric_dt = r2_score(y_test, y_pred_dt)\n",
        "metric_svr = r2_score(y_test, y_pred_svr)\n",
        "metric_linear = r2_score(y_test, y_pred_linear)\n",
        "metric_poly = r2_score(y_test, y_pred_poly)"
      ],
      "execution_count": null,
      "outputs": []
    },
    {
      "cell_type": "code",
      "metadata": {
        "colab": {
          "base_uri": "https://localhost:8080/",
          "height": 204
        },
        "id": "CO_oO6z_LvXJ",
        "outputId": "7600d93c-7341-47bf-c2f8-d105cc733f7a"
      },
      "source": [
        "pd.DataFrame(data=np.array([['linear', metric_linear],['Polynomial', metric_poly],['SVR', metric_svr], ['Decision Tree', metric_dt], ['Random Forest', metric_rf]]), columns=['Model name', 'R2 metric'])"
      ],
      "execution_count": null,
      "outputs": [
        {
          "output_type": "execute_result",
          "data": {
            "text/html": [
              "<div>\n",
              "<style scoped>\n",
              "    .dataframe tbody tr th:only-of-type {\n",
              "        vertical-align: middle;\n",
              "    }\n",
              "\n",
              "    .dataframe tbody tr th {\n",
              "        vertical-align: top;\n",
              "    }\n",
              "\n",
              "    .dataframe thead th {\n",
              "        text-align: right;\n",
              "    }\n",
              "</style>\n",
              "<table border=\"1\" class=\"dataframe\">\n",
              "  <thead>\n",
              "    <tr style=\"text-align: right;\">\n",
              "      <th></th>\n",
              "      <th>Model name</th>\n",
              "      <th>R2 metric</th>\n",
              "    </tr>\n",
              "  </thead>\n",
              "  <tbody>\n",
              "    <tr>\n",
              "      <th>0</th>\n",
              "      <td>linear</td>\n",
              "      <td>0.9325315554761302</td>\n",
              "    </tr>\n",
              "    <tr>\n",
              "      <th>1</th>\n",
              "      <td>Polynomial</td>\n",
              "      <td>0.9458192606428238</td>\n",
              "    </tr>\n",
              "    <tr>\n",
              "      <th>2</th>\n",
              "      <td>SVR</td>\n",
              "      <td>0.94807576744016</td>\n",
              "    </tr>\n",
              "    <tr>\n",
              "      <th>3</th>\n",
              "      <td>Decision Tree</td>\n",
              "      <td>0.9226091050550043</td>\n",
              "    </tr>\n",
              "    <tr>\n",
              "      <th>4</th>\n",
              "      <td>Random Forest</td>\n",
              "      <td>0.9605304544142581</td>\n",
              "    </tr>\n",
              "  </tbody>\n",
              "</table>\n",
              "</div>"
            ],
            "text/plain": [
              "      Model name           R2 metric\n",
              "0         linear  0.9325315554761302\n",
              "1     Polynomial  0.9458192606428238\n",
              "2            SVR    0.94807576744016\n",
              "3  Decision Tree  0.9226091050550043\n",
              "4  Random Forest  0.9605304544142581"
            ]
          },
          "metadata": {
            "tags": []
          },
          "execution_count": 12
        }
      ]
    }
  ]
}