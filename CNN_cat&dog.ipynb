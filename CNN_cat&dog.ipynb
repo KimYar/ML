{
  "nbformat": 4,
  "nbformat_minor": 0,
  "metadata": {
    "colab": {
      "name": "CNN_cat&dog.ipynb",
      "provenance": [],
      "mount_file_id": "1wLgQ7gGO_S6h1ho_4e2tAAo6IuLce2hA",
      "authorship_tag": "ABX9TyMiIpMOw7TWeI2PKx4cfDmX"
    },
    "kernelspec": {
      "name": "python3",
      "display_name": "Python 3"
    },
    "language_info": {
      "name": "python"
    },
    "accelerator": "GPU"
  },
  "cells": [
    {
      "cell_type": "code",
      "metadata": {
        "id": "-7vUbd4wh4uN"
      },
      "source": [
        "import numpy as np\n",
        "import tensorflow as tf\n",
        "from keras.preprocessing.image import ImageDataGenerator\n",
        "from keras.preprocessing import image"
      ],
      "execution_count": 1,
      "outputs": []
    },
    {
      "cell_type": "code",
      "metadata": {
        "colab": {
          "base_uri": "https://localhost:8080/"
        },
        "id": "0ef8M_wtuOT3",
        "outputId": "cb72b991-b66d-454b-8636-5e97e5486743"
      },
      "source": [
        "#preprocessing the data\n",
        "train_datagen = ImageDataGenerator(rescale=1./255, shear_range=0.2, zoom_range=0.2,horizontal_flip=True)\n",
        "\n",
        "training_set = train_datagen.flow_from_directory('/content/drive/MyDrive/Colab Notebooks/Machine Learning A-Z (Codes and Datasets)/Part 8 - Deep Learning/Section 40 - Convolutional Neural Networks (CNN)/dataset/training_set', \n",
        "                                                 target_size=(64,64), \n",
        "                                                 batch_size=32, \n",
        "                                                 class_mode = 'binary')\n",
        "\n",
        "\n",
        "test_datagen = ImageDataGenerator(rescale=1./255)\n",
        "\n",
        "test_set = test_datagen.flow_from_directory('/content/drive/MyDrive/Colab Notebooks/Machine Learning A-Z (Codes and Datasets)/Part 8 - Deep Learning/Section 40 - Convolutional Neural Networks (CNN)/dataset/test_set',\n",
        "                                            target_size=(64,64),\n",
        "                                            batch_size=32,\n",
        "                                            class_mode= 'binary')"
      ],
      "execution_count": 2,
      "outputs": [
        {
          "output_type": "stream",
          "name": "stdout",
          "text": [
            "Found 8000 images belonging to 2 classes.\n",
            "Found 2000 images belonging to 2 classes.\n"
          ]
        }
      ]
    },
    {
      "cell_type": "code",
      "metadata": {
        "colab": {
          "base_uri": "https://localhost:8080/"
        },
        "id": "n9bOh45xxTVN",
        "outputId": "a1e13cfe-4cb1-413f-a25a-350599bae32c"
      },
      "source": [
        "cnn = tf.keras.models.Sequential()\n",
        "\n",
        "#first convolutional layer\n",
        "cnn.add(tf.keras.layers.Conv2D(filters= 32, kernel_size= 3, activation='relu', input_shape= [64,64,3]))\n",
        "\n",
        "cnn.add(tf.keras.layers.MaxPool2D(pool_size=2, strides=2, padding='valid'))\n",
        "\n",
        "#secodn convolutional layer\n",
        "\n",
        "cnn.add(tf.keras.layers.Conv2D(filters= 32, kernel_size= 3, activation='relu'))\n",
        "\n",
        "cnn.add(tf.keras.layers.MaxPool2D(pool_size=2, strides=2, padding='valid'))\n",
        "\n",
        "#Flattening\n",
        "cnn.add(tf.keras.layers.Flatten())\n",
        "\n",
        "#Fully connected\n",
        "cnn.add(tf.keras.layers.Dense(units=128, activation='relu'))\n",
        "\n",
        "#output layer\n",
        "cnn.add(tf.keras.layers.Dense(units=1, activation='sigmoid'))\n",
        "\n",
        "#compiling\n",
        "cnn.compile(optimizer='adam', loss='binary_crossentropy',metrics=['accuracy'])\n",
        "\n",
        "#training\n",
        "cnn.fit(x= training_set, validation_data= test_set, epochs=25)\n"
      ],
      "execution_count": 3,
      "outputs": [
        {
          "output_type": "stream",
          "name": "stdout",
          "text": [
            "Epoch 1/25\n",
            "250/250 [==============================] - 2208s 9s/step - loss: 0.6755 - accuracy: 0.5771 - val_loss: 0.6328 - val_accuracy: 0.6485\n",
            "Epoch 2/25\n",
            "250/250 [==============================] - 60s 240ms/step - loss: 0.6084 - accuracy: 0.6700 - val_loss: 0.5578 - val_accuracy: 0.7200\n",
            "Epoch 3/25\n",
            "250/250 [==============================] - 57s 227ms/step - loss: 0.5537 - accuracy: 0.7149 - val_loss: 0.5297 - val_accuracy: 0.7400\n",
            "Epoch 4/25\n",
            "250/250 [==============================] - 60s 238ms/step - loss: 0.5220 - accuracy: 0.7434 - val_loss: 0.5125 - val_accuracy: 0.7500\n",
            "Epoch 5/25\n",
            "250/250 [==============================] - 60s 238ms/step - loss: 0.5134 - accuracy: 0.7484 - val_loss: 0.5006 - val_accuracy: 0.7565\n",
            "Epoch 6/25\n",
            "250/250 [==============================] - 57s 228ms/step - loss: 0.4878 - accuracy: 0.7628 - val_loss: 0.5010 - val_accuracy: 0.7585\n",
            "Epoch 7/25\n",
            "250/250 [==============================] - 59s 236ms/step - loss: 0.4796 - accuracy: 0.7703 - val_loss: 0.4746 - val_accuracy: 0.7860\n",
            "Epoch 8/25\n",
            "250/250 [==============================] - 57s 230ms/step - loss: 0.4640 - accuracy: 0.7811 - val_loss: 0.5738 - val_accuracy: 0.7215\n",
            "Epoch 9/25\n",
            "250/250 [==============================] - 57s 228ms/step - loss: 0.4504 - accuracy: 0.7875 - val_loss: 0.4615 - val_accuracy: 0.7825\n",
            "Epoch 10/25\n",
            "250/250 [==============================] - 57s 226ms/step - loss: 0.4379 - accuracy: 0.7934 - val_loss: 0.4676 - val_accuracy: 0.7870\n",
            "Epoch 11/25\n",
            "250/250 [==============================] - 57s 229ms/step - loss: 0.4283 - accuracy: 0.8045 - val_loss: 0.4662 - val_accuracy: 0.7900\n",
            "Epoch 12/25\n",
            "250/250 [==============================] - 58s 233ms/step - loss: 0.4154 - accuracy: 0.8106 - val_loss: 0.4528 - val_accuracy: 0.8035\n",
            "Epoch 13/25\n",
            "250/250 [==============================] - 56s 224ms/step - loss: 0.4106 - accuracy: 0.8114 - val_loss: 0.4956 - val_accuracy: 0.7790\n",
            "Epoch 14/25\n",
            "250/250 [==============================] - 57s 227ms/step - loss: 0.4081 - accuracy: 0.8108 - val_loss: 0.4787 - val_accuracy: 0.7925\n",
            "Epoch 15/25\n",
            "250/250 [==============================] - 59s 235ms/step - loss: 0.3902 - accuracy: 0.8230 - val_loss: 0.4425 - val_accuracy: 0.8060\n",
            "Epoch 16/25\n",
            "250/250 [==============================] - 58s 231ms/step - loss: 0.3829 - accuracy: 0.8232 - val_loss: 0.4802 - val_accuracy: 0.7950\n",
            "Epoch 17/25\n",
            "250/250 [==============================] - 57s 227ms/step - loss: 0.3769 - accuracy: 0.8288 - val_loss: 0.4726 - val_accuracy: 0.7870\n",
            "Epoch 18/25\n",
            "250/250 [==============================] - 57s 228ms/step - loss: 0.3633 - accuracy: 0.8307 - val_loss: 0.4642 - val_accuracy: 0.7985\n",
            "Epoch 19/25\n",
            "250/250 [==============================] - 55s 222ms/step - loss: 0.3591 - accuracy: 0.8332 - val_loss: 0.4589 - val_accuracy: 0.8040\n",
            "Epoch 20/25\n",
            "250/250 [==============================] - 54s 217ms/step - loss: 0.3562 - accuracy: 0.8397 - val_loss: 0.5199 - val_accuracy: 0.7800\n",
            "Epoch 21/25\n",
            "250/250 [==============================] - 56s 225ms/step - loss: 0.3502 - accuracy: 0.8469 - val_loss: 0.4526 - val_accuracy: 0.8045\n",
            "Epoch 22/25\n",
            "250/250 [==============================] - 59s 235ms/step - loss: 0.3311 - accuracy: 0.8571 - val_loss: 0.4872 - val_accuracy: 0.7915\n",
            "Epoch 23/25\n",
            "250/250 [==============================] - 56s 226ms/step - loss: 0.3176 - accuracy: 0.8605 - val_loss: 0.4780 - val_accuracy: 0.8035\n",
            "Epoch 24/25\n",
            "250/250 [==============================] - 57s 230ms/step - loss: 0.3083 - accuracy: 0.8655 - val_loss: 0.5581 - val_accuracy: 0.7805\n",
            "Epoch 25/25\n",
            "250/250 [==============================] - 58s 232ms/step - loss: 0.3111 - accuracy: 0.8637 - val_loss: 0.4867 - val_accuracy: 0.7965\n"
          ]
        },
        {
          "output_type": "execute_result",
          "data": {
            "text/plain": [
              "<keras.callbacks.History at 0x7f6a7ae097d0>"
            ]
          },
          "metadata": {},
          "execution_count": 3
        }
      ]
    },
    {
      "cell_type": "code",
      "metadata": {
        "id": "ImRX06bU0zOl"
      },
      "source": [
        "#prediction\n",
        "test_image_01 = image.load_img('/content/drive/MyDrive/Colab Notebooks/Machine Learning A-Z (Codes and Datasets)/Part 8 - Deep Learning/Section 40 - Convolutional Neural Networks (CNN)/dataset/single_prediction/cat_or_dog_1.jpg', target_size= (64,64))\n",
        "test_image_02 = image.load_img('/content/drive/MyDrive/Colab Notebooks/Machine Learning A-Z (Codes and Datasets)/Part 8 - Deep Learning/Section 40 - Convolutional Neural Networks (CNN)/dataset/single_prediction/cat_or_dog_2.jpg', target_size= (64,64))\n",
        "\n",
        "test_image_01 = image.img_to_array(test_image_01)\n",
        "test_image_02 = image.img_to_array(test_image_02)\n",
        "\n",
        "test_image_01 = np.expand_dims(test_image_01, axis= 0)\n",
        "test_image_02 = np.expand_dims(test_image_02, axis= 0)\n",
        "\n",
        "print(training_set.class_indices)\n",
        "\n",
        "print(cnn.predict(test_image_01))\n",
        "print(cnn.predict(test_image_02))"
      ],
      "execution_count": null,
      "outputs": []
    }
  ]
}