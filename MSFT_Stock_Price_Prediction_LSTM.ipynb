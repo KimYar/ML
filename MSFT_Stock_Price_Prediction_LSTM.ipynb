{
  "nbformat": 4,
  "nbformat_minor": 0,
  "metadata": {
    "colab": {
      "name": "MSFT_Stock_Price_Prediction_LSTM.ipynb",
      "provenance": [],
      "mount_file_id": "1SerbG985RufhVa5T2PYsLEbz3Xla9GkE",
      "authorship_tag": "ABX9TyNMX1C1KCFi7CPyR1WEKfEN"
    },
    "kernelspec": {
      "name": "python3",
      "display_name": "Python 3"
    },
    "language_info": {
      "name": "python"
    }
  },
  "cells": [
    {
      "cell_type": "code",
      "metadata": {
        "id": "pzaGwNUEIL-4"
      },
      "source": [
        "import numpy as np\n",
        "import pandas as pd\n",
        "import matplotlib.pyplot as plt\n",
        "import tensorflow as tf"
      ],
      "execution_count": 37,
      "outputs": []
    },
    {
      "cell_type": "code",
      "metadata": {
        "id": "VX1D4WiUJPBL"
      },
      "source": [
        "df = pd.read_csv('/content/drive/MyDrive/Colab Notebooks/Machine Learning A-Z (Codes and Datasets)/Part 11 - RNN/MSFT.csv')"
      ],
      "execution_count": 5,
      "outputs": []
    },
    {
      "cell_type": "code",
      "metadata": {
        "colab": {
          "base_uri": "https://localhost:8080/",
          "height": 419
        },
        "id": "Ro8yiPWtJe4C",
        "outputId": "d06449d5-c98c-4191-8f56-f95f2431e621"
      },
      "source": [
        "df"
      ],
      "execution_count": 6,
      "outputs": [
        {
          "output_type": "execute_result",
          "data": {
            "text/html": [
              "<div>\n",
              "<style scoped>\n",
              "    .dataframe tbody tr th:only-of-type {\n",
              "        vertical-align: middle;\n",
              "    }\n",
              "\n",
              "    .dataframe tbody tr th {\n",
              "        vertical-align: top;\n",
              "    }\n",
              "\n",
              "    .dataframe thead th {\n",
              "        text-align: right;\n",
              "    }\n",
              "</style>\n",
              "<table border=\"1\" class=\"dataframe\">\n",
              "  <thead>\n",
              "    <tr style=\"text-align: right;\">\n",
              "      <th></th>\n",
              "      <th>Date</th>\n",
              "      <th>Open</th>\n",
              "      <th>High</th>\n",
              "      <th>Low</th>\n",
              "      <th>Close</th>\n",
              "      <th>Adj Close</th>\n",
              "      <th>Volume</th>\n",
              "    </tr>\n",
              "  </thead>\n",
              "  <tbody>\n",
              "    <tr>\n",
              "      <th>0</th>\n",
              "      <td>1986-04-01</td>\n",
              "      <td>0.095486</td>\n",
              "      <td>0.095486</td>\n",
              "      <td>0.094618</td>\n",
              "      <td>0.094618</td>\n",
              "      <td>0.059844</td>\n",
              "      <td>11088000</td>\n",
              "    </tr>\n",
              "    <tr>\n",
              "      <th>1</th>\n",
              "      <td>1986-04-02</td>\n",
              "      <td>0.094618</td>\n",
              "      <td>0.097222</td>\n",
              "      <td>0.094618</td>\n",
              "      <td>0.095486</td>\n",
              "      <td>0.060393</td>\n",
              "      <td>27014400</td>\n",
              "    </tr>\n",
              "    <tr>\n",
              "      <th>2</th>\n",
              "      <td>1986-04-03</td>\n",
              "      <td>0.096354</td>\n",
              "      <td>0.098958</td>\n",
              "      <td>0.096354</td>\n",
              "      <td>0.096354</td>\n",
              "      <td>0.060942</td>\n",
              "      <td>23040000</td>\n",
              "    </tr>\n",
              "    <tr>\n",
              "      <th>3</th>\n",
              "      <td>1986-04-04</td>\n",
              "      <td>0.096354</td>\n",
              "      <td>0.097222</td>\n",
              "      <td>0.096354</td>\n",
              "      <td>0.096354</td>\n",
              "      <td>0.060942</td>\n",
              "      <td>26582400</td>\n",
              "    </tr>\n",
              "    <tr>\n",
              "      <th>4</th>\n",
              "      <td>1986-04-07</td>\n",
              "      <td>0.096354</td>\n",
              "      <td>0.097222</td>\n",
              "      <td>0.092882</td>\n",
              "      <td>0.094618</td>\n",
              "      <td>0.059844</td>\n",
              "      <td>16560000</td>\n",
              "    </tr>\n",
              "    <tr>\n",
              "      <th>...</th>\n",
              "      <td>...</td>\n",
              "      <td>...</td>\n",
              "      <td>...</td>\n",
              "      <td>...</td>\n",
              "      <td>...</td>\n",
              "      <td>...</td>\n",
              "      <td>...</td>\n",
              "    </tr>\n",
              "    <tr>\n",
              "      <th>8927</th>\n",
              "      <td>2021-08-30</td>\n",
              "      <td>301.119995</td>\n",
              "      <td>304.220001</td>\n",
              "      <td>301.059998</td>\n",
              "      <td>303.589996</td>\n",
              "      <td>303.589996</td>\n",
              "      <td>16348100</td>\n",
              "    </tr>\n",
              "    <tr>\n",
              "      <th>8928</th>\n",
              "      <td>2021-08-31</td>\n",
              "      <td>304.420013</td>\n",
              "      <td>304.500000</td>\n",
              "      <td>301.500000</td>\n",
              "      <td>301.880005</td>\n",
              "      <td>301.880005</td>\n",
              "      <td>26285300</td>\n",
              "    </tr>\n",
              "    <tr>\n",
              "      <th>8929</th>\n",
              "      <td>2021-09-01</td>\n",
              "      <td>302.869995</td>\n",
              "      <td>305.190002</td>\n",
              "      <td>301.489990</td>\n",
              "      <td>301.829987</td>\n",
              "      <td>301.829987</td>\n",
              "      <td>18983800</td>\n",
              "    </tr>\n",
              "    <tr>\n",
              "      <th>8930</th>\n",
              "      <td>2021-09-02</td>\n",
              "      <td>302.200012</td>\n",
              "      <td>303.359985</td>\n",
              "      <td>300.179993</td>\n",
              "      <td>301.149994</td>\n",
              "      <td>301.149994</td>\n",
              "      <td>16285600</td>\n",
              "    </tr>\n",
              "    <tr>\n",
              "      <th>8931</th>\n",
              "      <td>2021-09-03</td>\n",
              "      <td>300.989990</td>\n",
              "      <td>302.600006</td>\n",
              "      <td>300.260010</td>\n",
              "      <td>301.140015</td>\n",
              "      <td>301.140015</td>\n",
              "      <td>14747900</td>\n",
              "    </tr>\n",
              "  </tbody>\n",
              "</table>\n",
              "<p>8932 rows × 7 columns</p>\n",
              "</div>"
            ],
            "text/plain": [
              "            Date        Open        High  ...       Close   Adj Close    Volume\n",
              "0     1986-04-01    0.095486    0.095486  ...    0.094618    0.059844  11088000\n",
              "1     1986-04-02    0.094618    0.097222  ...    0.095486    0.060393  27014400\n",
              "2     1986-04-03    0.096354    0.098958  ...    0.096354    0.060942  23040000\n",
              "3     1986-04-04    0.096354    0.097222  ...    0.096354    0.060942  26582400\n",
              "4     1986-04-07    0.096354    0.097222  ...    0.094618    0.059844  16560000\n",
              "...          ...         ...         ...  ...         ...         ...       ...\n",
              "8927  2021-08-30  301.119995  304.220001  ...  303.589996  303.589996  16348100\n",
              "8928  2021-08-31  304.420013  304.500000  ...  301.880005  301.880005  26285300\n",
              "8929  2021-09-01  302.869995  305.190002  ...  301.829987  301.829987  18983800\n",
              "8930  2021-09-02  302.200012  303.359985  ...  301.149994  301.149994  16285600\n",
              "8931  2021-09-03  300.989990  302.600006  ...  301.140015  301.140015  14747900\n",
              "\n",
              "[8932 rows x 7 columns]"
            ]
          },
          "metadata": {},
          "execution_count": 6
        }
      ]
    },
    {
      "cell_type": "code",
      "metadata": {
        "colab": {
          "base_uri": "https://localhost:8080/"
        },
        "id": "aeNIj3zJJfhS",
        "outputId": "4c27b9d5-2d21-496c-8d07-895e80957ea9"
      },
      "source": [
        "training_set = df.iloc[:8907, 1:2].values\n",
        "\n",
        "test_set = df.iloc[8907:, 1:2].values\n",
        "\n",
        "print('The shape of the training_set is: {}'.format(training_set.shape))\n",
        "print('The shape of the test_set is: {}'.format(test_set.shape))"
      ],
      "execution_count": 18,
      "outputs": [
        {
          "output_type": "stream",
          "name": "stdout",
          "text": [
            "The shape of the training_set is: (8907, 1)\n",
            "The shape of the test_set is: (25, 1)\n"
          ]
        }
      ]
    },
    {
      "cell_type": "code",
      "metadata": {
        "id": "a0blFA53MsAz"
      },
      "source": [
        "from sklearn.preprocessing import MinMaxScaler\n",
        "\n",
        "sc = MinMaxScaler(feature_range=(0,1))\n",
        "\n",
        "training_set_scaled = sc.fit_transform(training_set)"
      ],
      "execution_count": 23,
      "outputs": []
    },
    {
      "cell_type": "code",
      "metadata": {
        "colab": {
          "base_uri": "https://localhost:8080/"
        },
        "id": "y8pVd5tQRHK2",
        "outputId": "150241c9-0487-449c-ba1d-a07dafdec086"
      },
      "source": [
        "#creating a data structure with 60 timesteps \n",
        "X_train = []\n",
        "y_train = []\n",
        "\n",
        "for i in range(60, 8907):\n",
        "    X_train.append(training_set_scaled[i-60:i, 0])\n",
        "    y_train.append(training_set_scaled[i, 0])\n",
        "\n",
        "X_train, y_train = np.array(X_train), np.array(y_train)\n",
        "\n",
        "print('The shape of X_train is: {}'.format(X_train.shape))\n",
        "print('The shape of y_train is: {}'.format(y_train.shape))\n",
        "\n",
        "X_train = np.reshape(X_train, newshape=(X_train.shape[0], X_train.shape[1], 1))\n",
        "\n",
        "print('The shape of X_train after reshaping is: {}'.format(X_train.shape))"
      ],
      "execution_count": 35,
      "outputs": [
        {
          "output_type": "stream",
          "name": "stdout",
          "text": [
            "The shape of X_train is: (8847, 60)\n",
            "The shape of y_train is: (8847,)\n",
            "The shape of X_train after reshaping is: (8847, 60, 1)\n"
          ]
        }
      ]
    },
    {
      "cell_type": "code",
      "metadata": {
        "id": "xYnkg6P8VLTU"
      },
      "source": [
        "from keras.models import Sequential\n",
        "from keras.layers import Dense\n",
        "from keras.layers import LSTM\n",
        "from keras.layers import Dropout"
      ],
      "execution_count": 38,
      "outputs": []
    },
    {
      "cell_type": "code",
      "metadata": {
        "colab": {
          "base_uri": "https://localhost:8080/"
        },
        "id": "d_4rD8t3VR5t",
        "outputId": "4fbb9d3c-f30e-407f-d806-2d0676da781c"
      },
      "source": [
        "regrossor = Sequential()\n",
        "\n",
        "regrossor.add(LSTM(units= 50, return_sequences= True, input_shape = (X_train.shape[1],1)))\n",
        "regrossor.add(Dropout(rate=0.2))\n",
        "\n",
        "regrossor.add(LSTM(units=50, return_sequences=True))\n",
        "regrossor.add(Dropout(rate=0.2))\n",
        "\n",
        "regrossor.add(LSTM(units=50, return_sequences=True))\n",
        "regrossor.add(Dropout(rate=0.2))\n",
        "\n",
        "regrossor.add(LSTM(units=50, return_sequences=False))\n",
        "regrossor.add(Dropout(rate=0.2))\n",
        "\n",
        "regrossor.add(Dense(units=1))\n",
        "\n",
        "regrossor.compile(optimizer='adam', loss='mean_squared_error')\n",
        "\n",
        "regrossor.fit(X_train, y_train, batch_size=32, epochs=100)"
      ],
      "execution_count": 47,
      "outputs": [
        {
          "output_type": "stream",
          "name": "stdout",
          "text": [
            "Epoch 1/100\n",
            "277/277 [==============================] - 46s 137ms/step - loss: 0.0021\n",
            "Epoch 2/100\n",
            "277/277 [==============================] - 39s 142ms/step - loss: 6.5604e-04\n",
            "Epoch 3/100\n",
            "277/277 [==============================] - 39s 142ms/step - loss: 6.4937e-04\n",
            "Epoch 4/100\n",
            "277/277 [==============================] - 39s 142ms/step - loss: 5.8450e-04\n",
            "Epoch 5/100\n",
            "277/277 [==============================] - 39s 141ms/step - loss: 4.9004e-04\n",
            "Epoch 6/100\n",
            "277/277 [==============================] - 38s 136ms/step - loss: 4.4751e-04\n",
            "Epoch 7/100\n",
            "277/277 [==============================] - 37s 135ms/step - loss: 5.0147e-04\n",
            "Epoch 8/100\n",
            "277/277 [==============================] - 38s 138ms/step - loss: 4.3484e-04\n",
            "Epoch 9/100\n",
            "277/277 [==============================] - 36s 130ms/step - loss: 4.3576e-04\n",
            "Epoch 10/100\n",
            "277/277 [==============================] - 36s 132ms/step - loss: 3.9747e-04\n",
            "Epoch 11/100\n",
            "277/277 [==============================] - 37s 134ms/step - loss: 4.4082e-04\n",
            "Epoch 12/100\n",
            "277/277 [==============================] - 37s 135ms/step - loss: 3.7982e-04\n",
            "Epoch 13/100\n",
            "277/277 [==============================] - 38s 138ms/step - loss: 3.9819e-04\n",
            "Epoch 14/100\n",
            "277/277 [==============================] - 37s 135ms/step - loss: 3.4236e-04\n",
            "Epoch 15/100\n",
            "277/277 [==============================] - 38s 136ms/step - loss: 3.4529e-04\n",
            "Epoch 16/100\n",
            "277/277 [==============================] - 38s 137ms/step - loss: 3.0309e-04\n",
            "Epoch 17/100\n",
            "277/277 [==============================] - 36s 131ms/step - loss: 3.8289e-04\n",
            "Epoch 18/100\n",
            "277/277 [==============================] - 38s 137ms/step - loss: 3.4364e-04\n",
            "Epoch 19/100\n",
            "277/277 [==============================] - 38s 138ms/step - loss: 3.4967e-04\n",
            "Epoch 20/100\n",
            "277/277 [==============================] - 38s 136ms/step - loss: 3.0563e-04\n",
            "Epoch 21/100\n",
            "277/277 [==============================] - 39s 140ms/step - loss: 3.6997e-04\n",
            "Epoch 22/100\n",
            "277/277 [==============================] - 37s 134ms/step - loss: 3.4395e-04\n",
            "Epoch 23/100\n",
            "277/277 [==============================] - 38s 138ms/step - loss: 3.4502e-04\n",
            "Epoch 24/100\n",
            "277/277 [==============================] - 37s 135ms/step - loss: 3.4068e-04\n",
            "Epoch 25/100\n",
            "277/277 [==============================] - 38s 137ms/step - loss: 3.2492e-04\n",
            "Epoch 26/100\n",
            "277/277 [==============================] - 39s 140ms/step - loss: 3.0019e-04\n",
            "Epoch 27/100\n",
            "277/277 [==============================] - 38s 136ms/step - loss: 3.6694e-04\n",
            "Epoch 28/100\n",
            "277/277 [==============================] - 37s 135ms/step - loss: 3.2373e-04\n",
            "Epoch 29/100\n",
            "277/277 [==============================] - 38s 136ms/step - loss: 3.6907e-04\n",
            "Epoch 30/100\n",
            "277/277 [==============================] - 37s 135ms/step - loss: 2.9516e-04\n",
            "Epoch 31/100\n",
            "277/277 [==============================] - 37s 135ms/step - loss: 3.1454e-04\n",
            "Epoch 32/100\n",
            "277/277 [==============================] - 37s 133ms/step - loss: 3.1020e-04\n",
            "Epoch 33/100\n",
            "277/277 [==============================] - 37s 132ms/step - loss: 2.7564e-04\n",
            "Epoch 34/100\n",
            "277/277 [==============================] - 38s 135ms/step - loss: 2.7557e-04\n",
            "Epoch 35/100\n",
            "277/277 [==============================] - 37s 134ms/step - loss: 2.7882e-04\n",
            "Epoch 36/100\n",
            "277/277 [==============================] - 38s 137ms/step - loss: 2.7764e-04\n",
            "Epoch 37/100\n",
            "277/277 [==============================] - 38s 137ms/step - loss: 2.7863e-04\n",
            "Epoch 38/100\n",
            "277/277 [==============================] - 38s 139ms/step - loss: 3.0337e-04\n",
            "Epoch 39/100\n",
            "277/277 [==============================] - 38s 137ms/step - loss: 2.8776e-04\n",
            "Epoch 40/100\n",
            "277/277 [==============================] - 38s 136ms/step - loss: 3.4244e-04\n",
            "Epoch 41/100\n",
            "277/277 [==============================] - 37s 132ms/step - loss: 2.8345e-04\n",
            "Epoch 42/100\n",
            "277/277 [==============================] - 37s 132ms/step - loss: 2.7345e-04\n",
            "Epoch 43/100\n",
            "277/277 [==============================] - 36s 131ms/step - loss: 2.6764e-04\n",
            "Epoch 44/100\n",
            "277/277 [==============================] - 37s 133ms/step - loss: 2.7647e-04\n",
            "Epoch 45/100\n",
            "277/277 [==============================] - 37s 132ms/step - loss: 2.9872e-04\n",
            "Epoch 46/100\n",
            "277/277 [==============================] - 36s 131ms/step - loss: 2.8883e-04\n",
            "Epoch 47/100\n",
            "277/277 [==============================] - 37s 133ms/step - loss: 2.7380e-04\n",
            "Epoch 48/100\n",
            "277/277 [==============================] - 37s 134ms/step - loss: 2.7522e-04\n",
            "Epoch 49/100\n",
            "277/277 [==============================] - 38s 136ms/step - loss: 2.9258e-04\n",
            "Epoch 50/100\n",
            "277/277 [==============================] - 38s 136ms/step - loss: 2.6071e-04\n",
            "Epoch 51/100\n",
            "277/277 [==============================] - 38s 136ms/step - loss: 2.7313e-04\n",
            "Epoch 52/100\n",
            "277/277 [==============================] - 37s 133ms/step - loss: 2.7409e-04\n",
            "Epoch 53/100\n",
            "277/277 [==============================] - 37s 134ms/step - loss: 2.5918e-04\n",
            "Epoch 54/100\n",
            "277/277 [==============================] - 39s 141ms/step - loss: 2.6828e-04\n",
            "Epoch 55/100\n",
            "277/277 [==============================] - 39s 139ms/step - loss: 2.9511e-04\n",
            "Epoch 56/100\n",
            "277/277 [==============================] - 39s 142ms/step - loss: 2.7048e-04\n",
            "Epoch 57/100\n",
            "277/277 [==============================] - 39s 141ms/step - loss: 2.4518e-04\n",
            "Epoch 58/100\n",
            "277/277 [==============================] - 39s 142ms/step - loss: 2.7131e-04\n",
            "Epoch 59/100\n",
            "277/277 [==============================] - 39s 141ms/step - loss: 2.7263e-04\n",
            "Epoch 60/100\n",
            "277/277 [==============================] - 39s 140ms/step - loss: 2.8007e-04\n",
            "Epoch 61/100\n",
            "277/277 [==============================] - 37s 134ms/step - loss: 2.4462e-04\n",
            "Epoch 62/100\n",
            "277/277 [==============================] - 38s 138ms/step - loss: 2.5342e-04\n",
            "Epoch 63/100\n",
            "277/277 [==============================] - 38s 136ms/step - loss: 3.0189e-04\n",
            "Epoch 64/100\n",
            "277/277 [==============================] - 37s 135ms/step - loss: 2.3090e-04\n",
            "Epoch 65/100\n",
            "277/277 [==============================] - 38s 136ms/step - loss: 2.4528e-04\n",
            "Epoch 66/100\n",
            "277/277 [==============================] - 38s 137ms/step - loss: 2.7102e-04\n",
            "Epoch 67/100\n",
            "277/277 [==============================] - 38s 136ms/step - loss: 2.6047e-04\n",
            "Epoch 68/100\n",
            "277/277 [==============================] - 38s 137ms/step - loss: 2.4754e-04\n",
            "Epoch 69/100\n",
            "277/277 [==============================] - 37s 133ms/step - loss: 2.3077e-04\n",
            "Epoch 70/100\n",
            "277/277 [==============================] - 38s 138ms/step - loss: 2.9062e-04\n",
            "Epoch 71/100\n",
            "277/277 [==============================] - 37s 133ms/step - loss: 2.2289e-04\n",
            "Epoch 72/100\n",
            "277/277 [==============================] - 37s 134ms/step - loss: 2.7958e-04\n",
            "Epoch 73/100\n",
            "277/277 [==============================] - 38s 136ms/step - loss: 2.5780e-04\n",
            "Epoch 74/100\n",
            "277/277 [==============================] - 37s 133ms/step - loss: 2.6361e-04\n",
            "Epoch 75/100\n",
            "277/277 [==============================] - 37s 134ms/step - loss: 2.6162e-04\n",
            "Epoch 76/100\n",
            "277/277 [==============================] - 38s 139ms/step - loss: 2.3868e-04\n",
            "Epoch 77/100\n",
            "277/277 [==============================] - 38s 136ms/step - loss: 2.7275e-04\n",
            "Epoch 78/100\n",
            "277/277 [==============================] - 38s 136ms/step - loss: 2.3368e-04\n",
            "Epoch 79/100\n",
            "277/277 [==============================] - 37s 134ms/step - loss: 2.5748e-04\n",
            "Epoch 80/100\n",
            "277/277 [==============================] - 37s 132ms/step - loss: 2.4674e-04\n",
            "Epoch 81/100\n",
            "277/277 [==============================] - 37s 135ms/step - loss: 2.2264e-04\n",
            "Epoch 82/100\n",
            "277/277 [==============================] - 37s 134ms/step - loss: 2.5129e-04\n",
            "Epoch 83/100\n",
            "277/277 [==============================] - 37s 134ms/step - loss: 2.3589e-04\n",
            "Epoch 84/100\n",
            "277/277 [==============================] - 36s 129ms/step - loss: 2.6487e-04\n",
            "Epoch 85/100\n",
            "277/277 [==============================] - 36s 131ms/step - loss: 2.3360e-04\n",
            "Epoch 86/100\n",
            "277/277 [==============================] - 37s 133ms/step - loss: 2.4219e-04\n",
            "Epoch 87/100\n",
            "277/277 [==============================] - 38s 138ms/step - loss: 2.6822e-04\n",
            "Epoch 88/100\n",
            "277/277 [==============================] - 37s 135ms/step - loss: 2.4698e-04\n",
            "Epoch 89/100\n",
            "277/277 [==============================] - 37s 133ms/step - loss: 2.4531e-04\n",
            "Epoch 90/100\n",
            "277/277 [==============================] - 37s 134ms/step - loss: 2.5870e-04\n",
            "Epoch 91/100\n",
            "277/277 [==============================] - 37s 135ms/step - loss: 2.7378e-04\n",
            "Epoch 92/100\n",
            "277/277 [==============================] - 37s 132ms/step - loss: 2.6188e-04\n",
            "Epoch 93/100\n",
            "277/277 [==============================] - 37s 133ms/step - loss: 2.6028e-04\n",
            "Epoch 94/100\n",
            "277/277 [==============================] - 37s 134ms/step - loss: 2.1867e-04\n",
            "Epoch 95/100\n",
            "277/277 [==============================] - 35s 126ms/step - loss: 2.1354e-04\n",
            "Epoch 96/100\n",
            "277/277 [==============================] - 34s 122ms/step - loss: 2.2657e-04\n",
            "Epoch 97/100\n",
            "277/277 [==============================] - 35s 126ms/step - loss: 2.4342e-04\n",
            "Epoch 98/100\n",
            "277/277 [==============================] - 35s 125ms/step - loss: 2.7556e-04\n",
            "Epoch 99/100\n",
            "277/277 [==============================] - 34s 123ms/step - loss: 2.8438e-04\n",
            "Epoch 100/100\n",
            "277/277 [==============================] - 34s 123ms/step - loss: 2.3038e-04\n"
          ]
        },
        {
          "output_type": "execute_result",
          "data": {
            "text/plain": [
              "<keras.callbacks.History at 0x7f205b85e6d0>"
            ]
          },
          "metadata": {},
          "execution_count": 47
        }
      ]
    },
    {
      "cell_type": "code",
      "metadata": {
        "colab": {
          "base_uri": "https://localhost:8080/"
        },
        "id": "sjqRL4ZKWBRX",
        "outputId": "267f47ae-a3aa-4848-8946-e2ad30db60a7"
      },
      "source": [
        "inputs = df.iloc[len(df)-len(test_set)-60:, 1:2].values\n",
        "print('The shape of inputs is: {}'.format(inputs.shape))\n",
        "inputs = inputs.reshape(-1,1)\n",
        "\n",
        "inputs = sc.transform(inputs)\n",
        "\n",
        "X_test = []\n",
        "\n",
        "for i in range(60, 60+len(test_set)):\n",
        "    X_test.append(inputs[i-60:i, 0])\n",
        "\n",
        "print('The length of X_test list is: {}'.format(len(X_test)))\n",
        "\n",
        "X_test = np.array(X_test)\n",
        "print('The shape of X_test array is : {}'.format(X_test.shape))\n",
        "\n",
        "X_test = np.reshape(X_test, (X_test.shape[0], X_test.shape[1], 1))\n",
        "\n",
        "predicted_stock_price = regrossor.predict(X_test)\n",
        "predicted_stock_price = sc.inverse_transform(predicted_stock_price)"
      ],
      "execution_count": 64,
      "outputs": [
        {
          "output_type": "stream",
          "name": "stdout",
          "text": [
            "The shape of inputs is: (85, 1)\n",
            "The length of X_test list is: 25\n",
            "The shape of X_test array is : (25, 60)\n"
          ]
        }
      ]
    },
    {
      "cell_type": "code",
      "metadata": {
        "colab": {
          "base_uri": "https://localhost:8080/",
          "height": 295
        },
        "id": "oOSlAWQRvPOM",
        "outputId": "49389205-42d5-4a6a-c518-f3e1200a1934"
      },
      "source": [
        "plt.plot(test_set, color = 'red', label = 'Real Google Stock Price')\n",
        "plt.plot(predicted_stock_price, color = 'blue', label = 'Predicted Google Stock Price')\n",
        "plt.title('Google Stock Price Prediction')\n",
        "plt.xlabel('Time')\n",
        "plt.ylabel('Google Stock Price')\n",
        "plt.legend()\n",
        "plt.show()"
      ],
      "execution_count": 66,
      "outputs": [
        {
          "output_type": "display_data",
          "data": {
            "image/png": "[encoded data removed]",
            "text/plain": [
              "<Figure size 432x288 with 1 Axes>"
            ]
          },
          "metadata": {
            "needs_background": "light"
          }
        }
      ]
    }
  ]
}