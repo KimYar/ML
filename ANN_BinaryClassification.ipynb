{
  "nbformat": 4,
  "nbformat_minor": 0,
  "metadata": {
    "colab": {
      "name": "ANN_BinaryClassification.ipynb",
      "provenance": [],
      "mount_file_id": "1twumABiMlx4ozaFbHwE4HphxiC8JDK37",
      "authorship_tag": "ABX9TyPptEEuh7KsEEXQIOXrT7KL"
    },
    "kernelspec": {
      "name": "python3",
      "display_name": "Python 3"
    },
    "language_info": {
      "name": "python"
    }
  },
  "cells": [
    {
      "cell_type": "code",
      "metadata": {
        "id": "GQ_YIAadf1N1"
      },
      "source": [
        "import numpy as np\n",
        "import pandas as pd"
      ],
      "execution_count": 1,
      "outputs": []
    },
    {
      "cell_type": "code",
      "metadata": {
        "id": "7Lf7VXeZiv9T"
      },
      "source": [
        "import tensorflow as tf"
      ],
      "execution_count": 2,
      "outputs": []
    },
    {
      "cell_type": "code",
      "metadata": {
        "id": "Aybnd0G2gAcG"
      },
      "source": [
        "df = pd.read_csv('/content/drive/MyDrive/Colab Notebooks/Machine Learning A-Z (Codes and Datasets)/Part 8 - Deep Learning/Section 39 - Artificial Neural Networks (ANN)/Python/Churn_Modelling.csv')"
      ],
      "execution_count": 3,
      "outputs": []
    },
    {
      "cell_type": "code",
      "metadata": {
        "colab": {
          "base_uri": "https://localhost:8080/",
          "height": 419
        },
        "id": "NY7LftSdgWIf",
        "outputId": "863739d2-97c9-4e93-ca73-354b729b8372"
      },
      "source": [
        "df"
      ],
      "execution_count": 4,
      "outputs": [
        {
          "output_type": "execute_result",
          "data": {
            "text/html": [
              "<div>\n",
              "<style scoped>\n",
              "    .dataframe tbody tr th:only-of-type {\n",
              "        vertical-align: middle;\n",
              "    }\n",
              "\n",
              "    .dataframe tbody tr th {\n",
              "        vertical-align: top;\n",
              "    }\n",
              "\n",
              "    .dataframe thead th {\n",
              "        text-align: right;\n",
              "    }\n",
              "</style>\n",
              "<table border=\"1\" class=\"dataframe\">\n",
              "  <thead>\n",
              "    <tr style=\"text-align: right;\">\n",
              "      <th></th>\n",
              "      <th>RowNumber</th>\n",
              "      <th>CustomerId</th>\n",
              "      <th>Surname</th>\n",
              "      <th>CreditScore</th>\n",
              "      <th>Geography</th>\n",
              "      <th>Gender</th>\n",
              "      <th>Age</th>\n",
              "      <th>Tenure</th>\n",
              "      <th>Balance</th>\n",
              "      <th>NumOfProducts</th>\n",
              "      <th>HasCrCard</th>\n",
              "      <th>IsActiveMember</th>\n",
              "      <th>EstimatedSalary</th>\n",
              "      <th>Exited</th>\n",
              "    </tr>\n",
              "  </thead>\n",
              "  <tbody>\n",
              "    <tr>\n",
              "      <th>0</th>\n",
              "      <td>1</td>\n",
              "      <td>15634602</td>\n",
              "      <td>Hargrave</td>\n",
              "      <td>619</td>\n",
              "      <td>France</td>\n",
              "      <td>Female</td>\n",
              "      <td>42</td>\n",
              "      <td>2</td>\n",
              "      <td>0.00</td>\n",
              "      <td>1</td>\n",
              "      <td>1</td>\n",
              "      <td>1</td>\n",
              "      <td>101348.88</td>\n",
              "      <td>1</td>\n",
              "    </tr>\n",
              "    <tr>\n",
              "      <th>1</th>\n",
              "      <td>2</td>\n",
              "      <td>15647311</td>\n",
              "      <td>Hill</td>\n",
              "      <td>608</td>\n",
              "      <td>Spain</td>\n",
              "      <td>Female</td>\n",
              "      <td>41</td>\n",
              "      <td>1</td>\n",
              "      <td>83807.86</td>\n",
              "      <td>1</td>\n",
              "      <td>0</td>\n",
              "      <td>1</td>\n",
              "      <td>112542.58</td>\n",
              "      <td>0</td>\n",
              "    </tr>\n",
              "    <tr>\n",
              "      <th>2</th>\n",
              "      <td>3</td>\n",
              "      <td>15619304</td>\n",
              "      <td>Onio</td>\n",
              "      <td>502</td>\n",
              "      <td>France</td>\n",
              "      <td>Female</td>\n",
              "      <td>42</td>\n",
              "      <td>8</td>\n",
              "      <td>159660.80</td>\n",
              "      <td>3</td>\n",
              "      <td>1</td>\n",
              "      <td>0</td>\n",
              "      <td>113931.57</td>\n",
              "      <td>1</td>\n",
              "    </tr>\n",
              "    <tr>\n",
              "      <th>3</th>\n",
              "      <td>4</td>\n",
              "      <td>15701354</td>\n",
              "      <td>Boni</td>\n",
              "      <td>699</td>\n",
              "      <td>France</td>\n",
              "      <td>Female</td>\n",
              "      <td>39</td>\n",
              "      <td>1</td>\n",
              "      <td>0.00</td>\n",
              "      <td>2</td>\n",
              "      <td>0</td>\n",
              "      <td>0</td>\n",
              "      <td>93826.63</td>\n",
              "      <td>0</td>\n",
              "    </tr>\n",
              "    <tr>\n",
              "      <th>4</th>\n",
              "      <td>5</td>\n",
              "      <td>15737888</td>\n",
              "      <td>Mitchell</td>\n",
              "      <td>850</td>\n",
              "      <td>Spain</td>\n",
              "      <td>Female</td>\n",
              "      <td>43</td>\n",
              "      <td>2</td>\n",
              "      <td>125510.82</td>\n",
              "      <td>1</td>\n",
              "      <td>1</td>\n",
              "      <td>1</td>\n",
              "      <td>79084.10</td>\n",
              "      <td>0</td>\n",
              "    </tr>\n",
              "    <tr>\n",
              "      <th>...</th>\n",
              "      <td>...</td>\n",
              "      <td>...</td>\n",
              "      <td>...</td>\n",
              "      <td>...</td>\n",
              "      <td>...</td>\n",
              "      <td>...</td>\n",
              "      <td>...</td>\n",
              "      <td>...</td>\n",
              "      <td>...</td>\n",
              "      <td>...</td>\n",
              "      <td>...</td>\n",
              "      <td>...</td>\n",
              "      <td>...</td>\n",
              "      <td>...</td>\n",
              "    </tr>\n",
              "    <tr>\n",
              "      <th>9995</th>\n",
              "      <td>9996</td>\n",
              "      <td>15606229</td>\n",
              "      <td>Obijiaku</td>\n",
              "      <td>771</td>\n",
              "      <td>France</td>\n",
              "      <td>Male</td>\n",
              "      <td>39</td>\n",
              "      <td>5</td>\n",
              "      <td>0.00</td>\n",
              "      <td>2</td>\n",
              "      <td>1</td>\n",
              "      <td>0</td>\n",
              "      <td>96270.64</td>\n",
              "      <td>0</td>\n",
              "    </tr>\n",
              "    <tr>\n",
              "      <th>9996</th>\n",
              "      <td>9997</td>\n",
              "      <td>15569892</td>\n",
              "      <td>Johnstone</td>\n",
              "      <td>516</td>\n",
              "      <td>France</td>\n",
              "      <td>Male</td>\n",
              "      <td>35</td>\n",
              "      <td>10</td>\n",
              "      <td>57369.61</td>\n",
              "      <td>1</td>\n",
              "      <td>1</td>\n",
              "      <td>1</td>\n",
              "      <td>101699.77</td>\n",
              "      <td>0</td>\n",
              "    </tr>\n",
              "    <tr>\n",
              "      <th>9997</th>\n",
              "      <td>9998</td>\n",
              "      <td>15584532</td>\n",
              "      <td>Liu</td>\n",
              "      <td>709</td>\n",
              "      <td>France</td>\n",
              "      <td>Female</td>\n",
              "      <td>36</td>\n",
              "      <td>7</td>\n",
              "      <td>0.00</td>\n",
              "      <td>1</td>\n",
              "      <td>0</td>\n",
              "      <td>1</td>\n",
              "      <td>42085.58</td>\n",
              "      <td>1</td>\n",
              "    </tr>\n",
              "    <tr>\n",
              "      <th>9998</th>\n",
              "      <td>9999</td>\n",
              "      <td>15682355</td>\n",
              "      <td>Sabbatini</td>\n",
              "      <td>772</td>\n",
              "      <td>Germany</td>\n",
              "      <td>Male</td>\n",
              "      <td>42</td>\n",
              "      <td>3</td>\n",
              "      <td>75075.31</td>\n",
              "      <td>2</td>\n",
              "      <td>1</td>\n",
              "      <td>0</td>\n",
              "      <td>92888.52</td>\n",
              "      <td>1</td>\n",
              "    </tr>\n",
              "    <tr>\n",
              "      <th>9999</th>\n",
              "      <td>10000</td>\n",
              "      <td>15628319</td>\n",
              "      <td>Walker</td>\n",
              "      <td>792</td>\n",
              "      <td>France</td>\n",
              "      <td>Female</td>\n",
              "      <td>28</td>\n",
              "      <td>4</td>\n",
              "      <td>130142.79</td>\n",
              "      <td>1</td>\n",
              "      <td>1</td>\n",
              "      <td>0</td>\n",
              "      <td>38190.78</td>\n",
              "      <td>0</td>\n",
              "    </tr>\n",
              "  </tbody>\n",
              "</table>\n",
              "<p>10000 rows × 14 columns</p>\n",
              "</div>"
            ],
            "text/plain": [
              "      RowNumber  CustomerId    Surname  ...  IsActiveMember EstimatedSalary Exited\n",
              "0             1    15634602   Hargrave  ...               1       101348.88      1\n",
              "1             2    15647311       Hill  ...               1       112542.58      0\n",
              "2             3    15619304       Onio  ...               0       113931.57      1\n",
              "3             4    15701354       Boni  ...               0        93826.63      0\n",
              "4             5    15737888   Mitchell  ...               1        79084.10      0\n",
              "...         ...         ...        ...  ...             ...             ...    ...\n",
              "9995       9996    15606229   Obijiaku  ...               0        96270.64      0\n",
              "9996       9997    15569892  Johnstone  ...               1       101699.77      0\n",
              "9997       9998    15584532        Liu  ...               1        42085.58      1\n",
              "9998       9999    15682355  Sabbatini  ...               0        92888.52      1\n",
              "9999      10000    15628319     Walker  ...               0        38190.78      0\n",
              "\n",
              "[10000 rows x 14 columns]"
            ]
          },
          "metadata": {},
          "execution_count": 4
        }
      ]
    },
    {
      "cell_type": "code",
      "metadata": {
        "id": "N6-k_DApgW9H"
      },
      "source": [
        "X = df.iloc[:,3:-1].values\n",
        "y = df.iloc[:,-1].values"
      ],
      "execution_count": 5,
      "outputs": []
    },
    {
      "cell_type": "code",
      "metadata": {
        "colab": {
          "base_uri": "https://localhost:8080/"
        },
        "id": "mFelp_OVguax",
        "outputId": "6536692d-351e-4c65-c4b1-6e8eadb0d637"
      },
      "source": [
        "X[0]"
      ],
      "execution_count": 6,
      "outputs": [
        {
          "output_type": "execute_result",
          "data": {
            "text/plain": [
              "array([619, 'France', 'Female', 42, 2, 0.0, 1, 1, 1, 101348.88],\n",
              "      dtype=object)"
            ]
          },
          "metadata": {},
          "execution_count": 6
        }
      ]
    },
    {
      "cell_type": "code",
      "metadata": {
        "id": "DLuvwXP3ghJY"
      },
      "source": [
        "from sklearn.preprocessing import LabelEncoder\n",
        "le = LabelEncoder()\n",
        "\n",
        "X[:,2] = le.fit_transform(X[:,2])"
      ],
      "execution_count": 7,
      "outputs": []
    },
    {
      "cell_type": "code",
      "metadata": {
        "id": "Tkcqz7wSgxDT"
      },
      "source": [
        "from sklearn.compose import ColumnTransformer\n",
        "from sklearn.preprocessing import OneHotEncoder\n",
        "\n",
        "ct = ColumnTransformer(transformers=[('encoder', OneHotEncoder(), [1])],remainder='passthrough')\n",
        "X = ct.fit_transform(X)"
      ],
      "execution_count": 8,
      "outputs": []
    },
    {
      "cell_type": "code",
      "metadata": {
        "colab": {
          "base_uri": "https://localhost:8080/"
        },
        "id": "8crwGlc1hhY7",
        "outputId": "2f4f8be5-609d-458e-f36d-e2387d2ca138"
      },
      "source": [
        "X[0]"
      ],
      "execution_count": 9,
      "outputs": [
        {
          "output_type": "execute_result",
          "data": {
            "text/plain": [
              "array([1.0, 0.0, 0.0, 619, 0, 42, 2, 0.0, 1, 1, 1, 101348.88],\n",
              "      dtype=object)"
            ]
          },
          "metadata": {},
          "execution_count": 9
        }
      ]
    },
    {
      "cell_type": "code",
      "metadata": {
        "id": "5pk6L9mqiK76"
      },
      "source": [
        "from sklearn.model_selection import train_test_split\n",
        "\n",
        "X_train, X_test, y_train, y_test = train_test_split(X, y , test_size =0.2, random_state= 42)"
      ],
      "execution_count": 10,
      "outputs": []
    },
    {
      "cell_type": "code",
      "metadata": {
        "id": "_txPSTtehj0L"
      },
      "source": [
        "from sklearn.preprocessing import StandardScaler\n",
        "\n",
        "sc = StandardScaler()\n",
        "\n",
        "X_train = sc.fit_transform(X_train)\n",
        "X_test = sc.transform(X_test)"
      ],
      "execution_count": 11,
      "outputs": []
    },
    {
      "cell_type": "code",
      "metadata": {
        "id": "pUpVBiyEihzs"
      },
      "source": [
        "ann = tf.keras.models.Sequential()"
      ],
      "execution_count": 12,
      "outputs": []
    },
    {
      "cell_type": "code",
      "metadata": {
        "id": "n4v3JBX4jEt7"
      },
      "source": [
        "ann.add(tf.keras.layers.Dense(units=6, activation='relu'))\n",
        "ann.add(tf.keras.layers.Dense(units=6, activation='relu'))\n",
        "ann.add(tf.keras.layers.Dense(units=1, activation='sigmoid')) #nonbinary softmax\n",
        "ann.compile(optimizer='adam', loss='binary_crossentropy', metrics='accuracy') #nonbinary categorical_crossentropy"
      ],
      "execution_count": 13,
      "outputs": []
    },
    {
      "cell_type": "code",
      "metadata": {
        "colab": {
          "base_uri": "https://localhost:8080/"
        },
        "id": "bFZHK1-Qjsb6",
        "outputId": "c9f33bb3-9eed-4ef3-d1d4-018a6d96bc93"
      },
      "source": [
        "ann.fit(X_train, y_train, batch_size=32, epochs=100)"
      ],
      "execution_count": 14,
      "outputs": [
        {
          "output_type": "stream",
          "name": "stdout",
          "text": [
            "Epoch 1/100\n",
            "250/250 [==============================] - 1s 919us/step - loss: 0.6733 - accuracy: 0.5830\n",
            "Epoch 2/100\n",
            "250/250 [==============================] - 0s 905us/step - loss: 0.4830 - accuracy: 0.7943\n",
            "Epoch 3/100\n",
            "250/250 [==============================] - 0s 872us/step - loss: 0.4512 - accuracy: 0.7985\n",
            "Epoch 4/100\n",
            "250/250 [==============================] - 0s 900us/step - loss: 0.4398 - accuracy: 0.8046\n",
            "Epoch 5/100\n",
            "250/250 [==============================] - 0s 844us/step - loss: 0.4319 - accuracy: 0.8100\n",
            "Epoch 6/100\n",
            "250/250 [==============================] - 0s 830us/step - loss: 0.4248 - accuracy: 0.8185\n",
            "Epoch 7/100\n",
            "250/250 [==============================] - 0s 897us/step - loss: 0.4176 - accuracy: 0.8229\n",
            "Epoch 8/100\n",
            "250/250 [==============================] - 0s 900us/step - loss: 0.4085 - accuracy: 0.8257\n",
            "Epoch 9/100\n",
            "250/250 [==============================] - 0s 903us/step - loss: 0.3961 - accuracy: 0.8322\n",
            "Epoch 10/100\n",
            "250/250 [==============================] - 0s 875us/step - loss: 0.3836 - accuracy: 0.8407\n",
            "Epoch 11/100\n",
            "250/250 [==============================] - 0s 907us/step - loss: 0.3742 - accuracy: 0.8436\n",
            "Epoch 12/100\n",
            "250/250 [==============================] - 0s 890us/step - loss: 0.3681 - accuracy: 0.8443\n",
            "Epoch 13/100\n",
            "250/250 [==============================] - 0s 917us/step - loss: 0.3638 - accuracy: 0.8460\n",
            "Epoch 14/100\n",
            "250/250 [==============================] - 0s 856us/step - loss: 0.3602 - accuracy: 0.8484\n",
            "Epoch 15/100\n",
            "250/250 [==============================] - 0s 837us/step - loss: 0.3578 - accuracy: 0.8505\n",
            "Epoch 16/100\n",
            "250/250 [==============================] - 0s 913us/step - loss: 0.3559 - accuracy: 0.8499\n",
            "Epoch 17/100\n",
            "250/250 [==============================] - 0s 932us/step - loss: 0.3538 - accuracy: 0.8504\n",
            "Epoch 18/100\n",
            "250/250 [==============================] - 0s 913us/step - loss: 0.3522 - accuracy: 0.8509\n",
            "Epoch 19/100\n",
            "250/250 [==============================] - 0s 829us/step - loss: 0.3507 - accuracy: 0.8522\n",
            "Epoch 20/100\n",
            "250/250 [==============================] - 0s 886us/step - loss: 0.3491 - accuracy: 0.8534\n",
            "Epoch 21/100\n",
            "250/250 [==============================] - 0s 809us/step - loss: 0.3475 - accuracy: 0.8530\n",
            "Epoch 22/100\n",
            "250/250 [==============================] - 0s 876us/step - loss: 0.3466 - accuracy: 0.8558\n",
            "Epoch 23/100\n",
            "250/250 [==============================] - 0s 843us/step - loss: 0.3451 - accuracy: 0.8571\n",
            "Epoch 24/100\n",
            "250/250 [==============================] - 0s 834us/step - loss: 0.3441 - accuracy: 0.8558\n",
            "Epoch 25/100\n",
            "250/250 [==============================] - 0s 890us/step - loss: 0.3437 - accuracy: 0.8572\n",
            "Epoch 26/100\n",
            "250/250 [==============================] - 0s 850us/step - loss: 0.3427 - accuracy: 0.8584\n",
            "Epoch 27/100\n",
            "250/250 [==============================] - 0s 845us/step - loss: 0.3419 - accuracy: 0.8591\n",
            "Epoch 28/100\n",
            "250/250 [==============================] - 0s 855us/step - loss: 0.3417 - accuracy: 0.8584\n",
            "Epoch 29/100\n",
            "250/250 [==============================] - 0s 857us/step - loss: 0.3412 - accuracy: 0.8581\n",
            "Epoch 30/100\n",
            "250/250 [==============================] - 0s 920us/step - loss: 0.3407 - accuracy: 0.8577\n",
            "Epoch 31/100\n",
            "250/250 [==============================] - 0s 894us/step - loss: 0.3402 - accuracy: 0.8594\n",
            "Epoch 32/100\n",
            "250/250 [==============================] - 0s 868us/step - loss: 0.3397 - accuracy: 0.8602\n",
            "Epoch 33/100\n",
            "250/250 [==============================] - 0s 887us/step - loss: 0.3395 - accuracy: 0.8585\n",
            "Epoch 34/100\n",
            "250/250 [==============================] - 0s 878us/step - loss: 0.3391 - accuracy: 0.8593\n",
            "Epoch 35/100\n",
            "250/250 [==============================] - 0s 859us/step - loss: 0.3389 - accuracy: 0.8601\n",
            "Epoch 36/100\n",
            "250/250 [==============================] - 0s 910us/step - loss: 0.3388 - accuracy: 0.8602\n",
            "Epoch 37/100\n",
            "250/250 [==============================] - 0s 841us/step - loss: 0.3382 - accuracy: 0.8624\n",
            "Epoch 38/100\n",
            "250/250 [==============================] - 0s 896us/step - loss: 0.3378 - accuracy: 0.8611\n",
            "Epoch 39/100\n",
            "250/250 [==============================] - 0s 890us/step - loss: 0.3378 - accuracy: 0.8606\n",
            "Epoch 40/100\n",
            "250/250 [==============================] - 0s 803us/step - loss: 0.3379 - accuracy: 0.8610\n",
            "Epoch 41/100\n",
            "250/250 [==============================] - 0s 861us/step - loss: 0.3375 - accuracy: 0.8627\n",
            "Epoch 42/100\n",
            "250/250 [==============================] - 0s 898us/step - loss: 0.3374 - accuracy: 0.8615\n",
            "Epoch 43/100\n",
            "250/250 [==============================] - 0s 869us/step - loss: 0.3372 - accuracy: 0.8616\n",
            "Epoch 44/100\n",
            "250/250 [==============================] - 0s 797us/step - loss: 0.3370 - accuracy: 0.8605\n",
            "Epoch 45/100\n",
            "250/250 [==============================] - 0s 770us/step - loss: 0.3366 - accuracy: 0.8606\n",
            "Epoch 46/100\n",
            "250/250 [==============================] - 0s 876us/step - loss: 0.3366 - accuracy: 0.8615\n",
            "Epoch 47/100\n",
            "250/250 [==============================] - 0s 875us/step - loss: 0.3368 - accuracy: 0.8615\n",
            "Epoch 48/100\n",
            "250/250 [==============================] - 0s 838us/step - loss: 0.3364 - accuracy: 0.8611\n",
            "Epoch 49/100\n",
            "250/250 [==============================] - 0s 860us/step - loss: 0.3363 - accuracy: 0.8627\n",
            "Epoch 50/100\n",
            "250/250 [==============================] - 0s 882us/step - loss: 0.3358 - accuracy: 0.8612\n",
            "Epoch 51/100\n",
            "250/250 [==============================] - 0s 861us/step - loss: 0.3361 - accuracy: 0.8619\n",
            "Epoch 52/100\n",
            "250/250 [==============================] - 0s 854us/step - loss: 0.3356 - accuracy: 0.8610\n",
            "Epoch 53/100\n",
            "250/250 [==============================] - 0s 891us/step - loss: 0.3357 - accuracy: 0.8619\n",
            "Epoch 54/100\n",
            "250/250 [==============================] - 0s 893us/step - loss: 0.3352 - accuracy: 0.8624\n",
            "Epoch 55/100\n",
            "250/250 [==============================] - 0s 899us/step - loss: 0.3351 - accuracy: 0.8602\n",
            "Epoch 56/100\n",
            "250/250 [==============================] - 0s 894us/step - loss: 0.3351 - accuracy: 0.8614\n",
            "Epoch 57/100\n",
            "250/250 [==============================] - 0s 854us/step - loss: 0.3353 - accuracy: 0.8610\n",
            "Epoch 58/100\n",
            "250/250 [==============================] - 0s 860us/step - loss: 0.3350 - accuracy: 0.8624\n",
            "Epoch 59/100\n",
            "250/250 [==============================] - 0s 882us/step - loss: 0.3346 - accuracy: 0.8615\n",
            "Epoch 60/100\n",
            "250/250 [==============================] - 0s 877us/step - loss: 0.3343 - accuracy: 0.8627\n",
            "Epoch 61/100\n",
            "250/250 [==============================] - 0s 869us/step - loss: 0.3346 - accuracy: 0.8629\n",
            "Epoch 62/100\n",
            "250/250 [==============================] - 0s 866us/step - loss: 0.3346 - accuracy: 0.8610\n",
            "Epoch 63/100\n",
            "250/250 [==============================] - 0s 917us/step - loss: 0.3341 - accuracy: 0.8620\n",
            "Epoch 64/100\n",
            "250/250 [==============================] - 0s 895us/step - loss: 0.3342 - accuracy: 0.8605\n",
            "Epoch 65/100\n",
            "250/250 [==============================] - 0s 871us/step - loss: 0.3334 - accuracy: 0.8620\n",
            "Epoch 66/100\n",
            "250/250 [==============================] - 0s 872us/step - loss: 0.3339 - accuracy: 0.8620\n",
            "Epoch 67/100\n",
            "250/250 [==============================] - 0s 851us/step - loss: 0.3336 - accuracy: 0.8619\n",
            "Epoch 68/100\n",
            "250/250 [==============================] - 0s 867us/step - loss: 0.3334 - accuracy: 0.8620\n",
            "Epoch 69/100\n",
            "250/250 [==============================] - 0s 890us/step - loss: 0.3334 - accuracy: 0.8630\n",
            "Epoch 70/100\n",
            "250/250 [==============================] - 0s 834us/step - loss: 0.3335 - accuracy: 0.8626\n",
            "Epoch 71/100\n",
            "250/250 [==============================] - 0s 925us/step - loss: 0.3330 - accuracy: 0.8641\n",
            "Epoch 72/100\n",
            "250/250 [==============================] - 0s 879us/step - loss: 0.3327 - accuracy: 0.8624\n",
            "Epoch 73/100\n",
            "250/250 [==============================] - 0s 881us/step - loss: 0.3334 - accuracy: 0.8620\n",
            "Epoch 74/100\n",
            "250/250 [==============================] - 0s 857us/step - loss: 0.3330 - accuracy: 0.8619\n",
            "Epoch 75/100\n",
            "250/250 [==============================] - 0s 879us/step - loss: 0.3329 - accuracy: 0.8616\n",
            "Epoch 76/100\n",
            "250/250 [==============================] - 0s 879us/step - loss: 0.3323 - accuracy: 0.8624\n",
            "Epoch 77/100\n",
            "250/250 [==============================] - 0s 829us/step - loss: 0.3325 - accuracy: 0.8610\n",
            "Epoch 78/100\n",
            "250/250 [==============================] - 0s 761us/step - loss: 0.3318 - accuracy: 0.8633\n",
            "Epoch 79/100\n",
            "250/250 [==============================] - 0s 869us/step - loss: 0.3323 - accuracy: 0.8636\n",
            "Epoch 80/100\n",
            "250/250 [==============================] - 0s 848us/step - loss: 0.3320 - accuracy: 0.8626\n",
            "Epoch 81/100\n",
            "250/250 [==============================] - 0s 849us/step - loss: 0.3324 - accuracy: 0.8620\n",
            "Epoch 82/100\n",
            "250/250 [==============================] - 0s 867us/step - loss: 0.3320 - accuracy: 0.8635\n",
            "Epoch 83/100\n",
            "250/250 [==============================] - 0s 863us/step - loss: 0.3316 - accuracy: 0.8610\n",
            "Epoch 84/100\n",
            "250/250 [==============================] - 0s 848us/step - loss: 0.3317 - accuracy: 0.8608\n",
            "Epoch 85/100\n",
            "250/250 [==============================] - 0s 881us/step - loss: 0.3310 - accuracy: 0.8621\n",
            "Epoch 86/100\n",
            "250/250 [==============================] - 0s 872us/step - loss: 0.3314 - accuracy: 0.8635\n",
            "Epoch 87/100\n",
            "250/250 [==============================] - 0s 874us/step - loss: 0.3316 - accuracy: 0.8622\n",
            "Epoch 88/100\n",
            "250/250 [==============================] - 0s 896us/step - loss: 0.3313 - accuracy: 0.8619\n",
            "Epoch 89/100\n",
            "250/250 [==============================] - 0s 887us/step - loss: 0.3313 - accuracy: 0.8624\n",
            "Epoch 90/100\n",
            "250/250 [==============================] - 0s 874us/step - loss: 0.3313 - accuracy: 0.8614\n",
            "Epoch 91/100\n",
            "250/250 [==============================] - 0s 876us/step - loss: 0.3308 - accuracy: 0.8629\n",
            "Epoch 92/100\n",
            "250/250 [==============================] - 0s 875us/step - loss: 0.3307 - accuracy: 0.8626\n",
            "Epoch 93/100\n",
            "250/250 [==============================] - 0s 909us/step - loss: 0.3307 - accuracy: 0.8624\n",
            "Epoch 94/100\n",
            "250/250 [==============================] - 0s 883us/step - loss: 0.3306 - accuracy: 0.8635\n",
            "Epoch 95/100\n",
            "250/250 [==============================] - 0s 868us/step - loss: 0.3307 - accuracy: 0.8641\n",
            "Epoch 96/100\n",
            "250/250 [==============================] - 0s 854us/step - loss: 0.3306 - accuracy: 0.8633\n",
            "Epoch 97/100\n",
            "250/250 [==============================] - 0s 888us/step - loss: 0.3303 - accuracy: 0.8633\n",
            "Epoch 98/100\n",
            "250/250 [==============================] - 0s 889us/step - loss: 0.3304 - accuracy: 0.8622\n",
            "Epoch 99/100\n",
            "250/250 [==============================] - 0s 870us/step - loss: 0.3301 - accuracy: 0.8612\n",
            "Epoch 100/100\n",
            "250/250 [==============================] - 0s 916us/step - loss: 0.3300 - accuracy: 0.8652\n"
          ]
        },
        {
          "output_type": "execute_result",
          "data": {
            "text/plain": [
              "<keras.callbacks.History at 0x7f08c0d5aa10>"
            ]
          },
          "metadata": {},
          "execution_count": 14
        }
      ]
    },
    {
      "cell_type": "code",
      "metadata": {
        "colab": {
          "base_uri": "https://localhost:8080/"
        },
        "id": "k4qaJdCnpsKy",
        "outputId": "3283317f-0e02-4d91-90cc-361f8697e350"
      },
      "source": [
        "ann.predict(sc.transform([[1.0, 0.0, 0.0, 600, 1, 40, 3, 60000, 2, 1, 1, 50000]]))>0.5"
      ],
      "execution_count": 15,
      "outputs": [
        {
          "output_type": "execute_result",
          "data": {
            "text/plain": [
              "array([[False]])"
            ]
          },
          "metadata": {},
          "execution_count": 15
        }
      ]
    },
    {
      "cell_type": "code",
      "metadata": {
        "id": "w_vcj45SkIZm"
      },
      "source": [
        "y_pred = ann.predict(X_test)\n",
        "y_pred = (y_pred> 0.5)"
      ],
      "execution_count": 16,
      "outputs": []
    },
    {
      "cell_type": "code",
      "metadata": {
        "colab": {
          "base_uri": "https://localhost:8080/"
        },
        "id": "KV8Oj_BRmLpB",
        "outputId": "427dc194-5a11-4823-fa1f-543b17c6ab24"
      },
      "source": [
        "print(np.concatenate((y_pred.reshape(len(y_pred), 1), y_test.reshape(len(y_test), 1)), 1))"
      ],
      "execution_count": 23,
      "outputs": [
        {
          "output_type": "stream",
          "name": "stdout",
          "text": [
            "[[0 0]\n",
            " [0 0]\n",
            " [0 0]\n",
            " ...\n",
            " [1 1]\n",
            " [0 1]\n",
            " [0 1]]\n"
          ]
        }
      ]
    },
    {
      "cell_type": "code",
      "metadata": {
        "id": "wqnwQHCKlXrG"
      },
      "source": [
        "from sklearn.metrics import confusion_matrix, accuracy_score"
      ],
      "execution_count": 21,
      "outputs": []
    },
    {
      "cell_type": "code",
      "metadata": {
        "colab": {
          "base_uri": "https://localhost:8080/"
        },
        "id": "BQYyf8iClk8z",
        "outputId": "b2525001-6a2a-4d00-8219-906effac365c"
      },
      "source": [
        "accuracy_score(y_test, y_pred)"
      ],
      "execution_count": 22,
      "outputs": [
        {
          "output_type": "execute_result",
          "data": {
            "text/plain": [
              "0.8635"
            ]
          },
          "metadata": {},
          "execution_count": 22
        }
      ]
    },
    {
      "cell_type": "code",
      "metadata": {
        "colab": {
          "base_uri": "https://localhost:8080/"
        },
        "id": "bFlBh7zS1YAY",
        "outputId": "b85328b7-a771-4c7b-bbe3-a5a028a0b1fd"
      },
      "source": [
        "confusion_matrix(y_test, y_pred)"
      ],
      "execution_count": 25,
      "outputs": [
        {
          "output_type": "execute_result",
          "data": {
            "text/plain": [
              "array([[1535,   72],\n",
              "       [ 201,  192]])"
            ]
          },
          "metadata": {},
          "execution_count": 25
        }
      ]
    }
  ]
}