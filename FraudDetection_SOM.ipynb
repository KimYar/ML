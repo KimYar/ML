{
  "nbformat": 4,
  "nbformat_minor": 0,
  "metadata": {
    "colab": {
      "name": "FraudDetection_SOM.ipynb",
      "provenance": [],
      "mount_file_id": "17bJrNeqJXWurV0vZsMeUKIgERtWeAmb8",
      "authorship_tag": "ABX9TyMmXknerOSaQMK+DA/TqXzS"
    },
    "kernelspec": {
      "name": "python3",
      "display_name": "Python 3"
    },
    "language_info": {
      "name": "python"
    }
  },
  "cells": [
    {
      "cell_type": "code",
      "metadata": {
        "colab": {
          "base_uri": "https://localhost:8080/"
        },
        "id": "yzGTuaFn3kBp",
        "outputId": "54a26d34-d915-432d-8fb4-66defc6a418a"
      },
      "source": [
        "!pip install Minisom"
      ],
      "execution_count": 1,
      "outputs": [
        {
          "output_type": "stream",
          "name": "stdout",
          "text": [
            "Collecting Minisom\n",
            "  Downloading MiniSom-2.2.9.tar.gz (8.1 kB)\n",
            "Building wheels for collected packages: Minisom\n",
            "  Building wheel for Minisom (setup.py) ... \u001b[?25l\u001b[?25hdone\n",
            "  Created wheel for Minisom: filename=MiniSom-2.2.9-py3-none-any.whl size=8594 sha256=bd99580ebc8f40c971a6717dab3c063f86018a63b0fa181195505fe4e0aae5ec\n",
            "  Stored in directory: /root/.cache/pip/wheels/3d/a1/10/f50b6f4865652eac239a2700de411c3078c27e1318320e494c\n",
            "Successfully built Minisom\n",
            "Installing collected packages: Minisom\n",
            "Successfully installed Minisom-2.2.9\n"
          ]
        }
      ]
    },
    {
      "cell_type": "code",
      "metadata": {
        "id": "iWa5hWF13nCr"
      },
      "source": [
        "import pandas as pd\n",
        "import numpy as np\n",
        "import matplotlib.pyplot as plt"
      ],
      "execution_count": 2,
      "outputs": []
    },
    {
      "cell_type": "code",
      "metadata": {
        "id": "N9i47DNL3tKx"
      },
      "source": [
        "#dataset : http://archive.ics.uci.edu/ml/datasets/statlog+(australian+credit+approval)\n",
        "df = pd.read_csv('/content/drive/MyDrive/Colab Notebooks/Machine Learning A-Z (Codes and Datasets)/Part 12 - Self Organizing Map/Credit_Card_Applications.csv')"
      ],
      "execution_count": 3,
      "outputs": []
    },
    {
      "cell_type": "code",
      "metadata": {
        "colab": {
          "base_uri": "https://localhost:8080/",
          "height": 419
        },
        "id": "UUdgEF-04WJ9",
        "outputId": "ce4d427f-a2b1-4d06-ecd6-d977ddfc71f2"
      },
      "source": [
        "df"
      ],
      "execution_count": 4,
      "outputs": [
        {
          "output_type": "execute_result",
          "data": {
            "text/html": [
              "<div>\n",
              "<style scoped>\n",
              "    .dataframe tbody tr th:only-of-type {\n",
              "        vertical-align: middle;\n",
              "    }\n",
              "\n",
              "    .dataframe tbody tr th {\n",
              "        vertical-align: top;\n",
              "    }\n",
              "\n",
              "    .dataframe thead th {\n",
              "        text-align: right;\n",
              "    }\n",
              "</style>\n",
              "<table border=\"1\" class=\"dataframe\">\n",
              "  <thead>\n",
              "    <tr style=\"text-align: right;\">\n",
              "      <th></th>\n",
              "      <th>CustomerID</th>\n",
              "      <th>A1</th>\n",
              "      <th>A2</th>\n",
              "      <th>A3</th>\n",
              "      <th>A4</th>\n",
              "      <th>A5</th>\n",
              "      <th>A6</th>\n",
              "      <th>A7</th>\n",
              "      <th>A8</th>\n",
              "      <th>A9</th>\n",
              "      <th>A10</th>\n",
              "      <th>A11</th>\n",
              "      <th>A12</th>\n",
              "      <th>A13</th>\n",
              "      <th>A14</th>\n",
              "      <th>Class</th>\n",
              "    </tr>\n",
              "  </thead>\n",
              "  <tbody>\n",
              "    <tr>\n",
              "      <th>0</th>\n",
              "      <td>15776156</td>\n",
              "      <td>1</td>\n",
              "      <td>22.08</td>\n",
              "      <td>11.460</td>\n",
              "      <td>2</td>\n",
              "      <td>4</td>\n",
              "      <td>4</td>\n",
              "      <td>1.585</td>\n",
              "      <td>0</td>\n",
              "      <td>0</td>\n",
              "      <td>0</td>\n",
              "      <td>1</td>\n",
              "      <td>2</td>\n",
              "      <td>100</td>\n",
              "      <td>1213</td>\n",
              "      <td>0</td>\n",
              "    </tr>\n",
              "    <tr>\n",
              "      <th>1</th>\n",
              "      <td>15739548</td>\n",
              "      <td>0</td>\n",
              "      <td>22.67</td>\n",
              "      <td>7.000</td>\n",
              "      <td>2</td>\n",
              "      <td>8</td>\n",
              "      <td>4</td>\n",
              "      <td>0.165</td>\n",
              "      <td>0</td>\n",
              "      <td>0</td>\n",
              "      <td>0</td>\n",
              "      <td>0</td>\n",
              "      <td>2</td>\n",
              "      <td>160</td>\n",
              "      <td>1</td>\n",
              "      <td>0</td>\n",
              "    </tr>\n",
              "    <tr>\n",
              "      <th>2</th>\n",
              "      <td>15662854</td>\n",
              "      <td>0</td>\n",
              "      <td>29.58</td>\n",
              "      <td>1.750</td>\n",
              "      <td>1</td>\n",
              "      <td>4</td>\n",
              "      <td>4</td>\n",
              "      <td>1.250</td>\n",
              "      <td>0</td>\n",
              "      <td>0</td>\n",
              "      <td>0</td>\n",
              "      <td>1</td>\n",
              "      <td>2</td>\n",
              "      <td>280</td>\n",
              "      <td>1</td>\n",
              "      <td>0</td>\n",
              "    </tr>\n",
              "    <tr>\n",
              "      <th>3</th>\n",
              "      <td>15687688</td>\n",
              "      <td>0</td>\n",
              "      <td>21.67</td>\n",
              "      <td>11.500</td>\n",
              "      <td>1</td>\n",
              "      <td>5</td>\n",
              "      <td>3</td>\n",
              "      <td>0.000</td>\n",
              "      <td>1</td>\n",
              "      <td>1</td>\n",
              "      <td>11</td>\n",
              "      <td>1</td>\n",
              "      <td>2</td>\n",
              "      <td>0</td>\n",
              "      <td>1</td>\n",
              "      <td>1</td>\n",
              "    </tr>\n",
              "    <tr>\n",
              "      <th>4</th>\n",
              "      <td>15715750</td>\n",
              "      <td>1</td>\n",
              "      <td>20.17</td>\n",
              "      <td>8.170</td>\n",
              "      <td>2</td>\n",
              "      <td>6</td>\n",
              "      <td>4</td>\n",
              "      <td>1.960</td>\n",
              "      <td>1</td>\n",
              "      <td>1</td>\n",
              "      <td>14</td>\n",
              "      <td>0</td>\n",
              "      <td>2</td>\n",
              "      <td>60</td>\n",
              "      <td>159</td>\n",
              "      <td>1</td>\n",
              "    </tr>\n",
              "    <tr>\n",
              "      <th>...</th>\n",
              "      <td>...</td>\n",
              "      <td>...</td>\n",
              "      <td>...</td>\n",
              "      <td>...</td>\n",
              "      <td>...</td>\n",
              "      <td>...</td>\n",
              "      <td>...</td>\n",
              "      <td>...</td>\n",
              "      <td>...</td>\n",
              "      <td>...</td>\n",
              "      <td>...</td>\n",
              "      <td>...</td>\n",
              "      <td>...</td>\n",
              "      <td>...</td>\n",
              "      <td>...</td>\n",
              "      <td>...</td>\n",
              "    </tr>\n",
              "    <tr>\n",
              "      <th>685</th>\n",
              "      <td>15808223</td>\n",
              "      <td>1</td>\n",
              "      <td>31.57</td>\n",
              "      <td>10.500</td>\n",
              "      <td>2</td>\n",
              "      <td>14</td>\n",
              "      <td>4</td>\n",
              "      <td>6.500</td>\n",
              "      <td>1</td>\n",
              "      <td>0</td>\n",
              "      <td>0</td>\n",
              "      <td>0</td>\n",
              "      <td>2</td>\n",
              "      <td>0</td>\n",
              "      <td>1</td>\n",
              "      <td>1</td>\n",
              "    </tr>\n",
              "    <tr>\n",
              "      <th>686</th>\n",
              "      <td>15769980</td>\n",
              "      <td>1</td>\n",
              "      <td>20.67</td>\n",
              "      <td>0.415</td>\n",
              "      <td>2</td>\n",
              "      <td>8</td>\n",
              "      <td>4</td>\n",
              "      <td>0.125</td>\n",
              "      <td>0</td>\n",
              "      <td>0</td>\n",
              "      <td>0</td>\n",
              "      <td>0</td>\n",
              "      <td>2</td>\n",
              "      <td>0</td>\n",
              "      <td>45</td>\n",
              "      <td>0</td>\n",
              "    </tr>\n",
              "    <tr>\n",
              "      <th>687</th>\n",
              "      <td>15675450</td>\n",
              "      <td>0</td>\n",
              "      <td>18.83</td>\n",
              "      <td>9.540</td>\n",
              "      <td>2</td>\n",
              "      <td>6</td>\n",
              "      <td>4</td>\n",
              "      <td>0.085</td>\n",
              "      <td>1</td>\n",
              "      <td>0</td>\n",
              "      <td>0</td>\n",
              "      <td>0</td>\n",
              "      <td>2</td>\n",
              "      <td>100</td>\n",
              "      <td>1</td>\n",
              "      <td>1</td>\n",
              "    </tr>\n",
              "    <tr>\n",
              "      <th>688</th>\n",
              "      <td>15776494</td>\n",
              "      <td>0</td>\n",
              "      <td>27.42</td>\n",
              "      <td>14.500</td>\n",
              "      <td>2</td>\n",
              "      <td>14</td>\n",
              "      <td>8</td>\n",
              "      <td>3.085</td>\n",
              "      <td>1</td>\n",
              "      <td>1</td>\n",
              "      <td>1</td>\n",
              "      <td>0</td>\n",
              "      <td>2</td>\n",
              "      <td>120</td>\n",
              "      <td>12</td>\n",
              "      <td>1</td>\n",
              "    </tr>\n",
              "    <tr>\n",
              "      <th>689</th>\n",
              "      <td>15592412</td>\n",
              "      <td>1</td>\n",
              "      <td>41.00</td>\n",
              "      <td>0.040</td>\n",
              "      <td>2</td>\n",
              "      <td>10</td>\n",
              "      <td>4</td>\n",
              "      <td>0.040</td>\n",
              "      <td>0</td>\n",
              "      <td>1</td>\n",
              "      <td>1</td>\n",
              "      <td>0</td>\n",
              "      <td>1</td>\n",
              "      <td>560</td>\n",
              "      <td>1</td>\n",
              "      <td>1</td>\n",
              "    </tr>\n",
              "  </tbody>\n",
              "</table>\n",
              "<p>690 rows × 16 columns</p>\n",
              "</div>"
            ],
            "text/plain": [
              "     CustomerID  A1     A2      A3  A4  A5  ...  A10  A11  A12  A13   A14  Class\n",
              "0      15776156   1  22.08  11.460   2   4  ...    0    1    2  100  1213      0\n",
              "1      15739548   0  22.67   7.000   2   8  ...    0    0    2  160     1      0\n",
              "2      15662854   0  29.58   1.750   1   4  ...    0    1    2  280     1      0\n",
              "3      15687688   0  21.67  11.500   1   5  ...   11    1    2    0     1      1\n",
              "4      15715750   1  20.17   8.170   2   6  ...   14    0    2   60   159      1\n",
              "..          ...  ..    ...     ...  ..  ..  ...  ...  ...  ...  ...   ...    ...\n",
              "685    15808223   1  31.57  10.500   2  14  ...    0    0    2    0     1      1\n",
              "686    15769980   1  20.67   0.415   2   8  ...    0    0    2    0    45      0\n",
              "687    15675450   0  18.83   9.540   2   6  ...    0    0    2  100     1      1\n",
              "688    15776494   0  27.42  14.500   2  14  ...    1    0    2  120    12      1\n",
              "689    15592412   1  41.00   0.040   2  10  ...    1    0    1  560     1      1\n",
              "\n",
              "[690 rows x 16 columns]"
            ]
          },
          "metadata": {},
          "execution_count": 4
        }
      ]
    },
    {
      "cell_type": "code",
      "metadata": {
        "colab": {
          "base_uri": "https://localhost:8080/"
        },
        "id": "DIEoOko94WoU",
        "outputId": "905fab47-88d6-4c0f-99e6-90e0ecbe0c06"
      },
      "source": [
        "#usupervised learning, y is not used\n",
        "X = df.iloc[:, :-1].values\n",
        "y = df.iloc[:,-1].values\n",
        "\n",
        "print(X.shape)"
      ],
      "execution_count": 5,
      "outputs": [
        {
          "output_type": "stream",
          "name": "stdout",
          "text": [
            "(690, 15)\n"
          ]
        }
      ]
    },
    {
      "cell_type": "code",
      "metadata": {
        "id": "pQIW0Uun4ib4"
      },
      "source": [
        "from sklearn.preprocessing import MinMaxScaler\n",
        "\n",
        "sc = MinMaxScaler(feature_range=(0,1))\n",
        "\n",
        "X = sc.fit_transform(X) "
      ],
      "execution_count": 6,
      "outputs": []
    },
    {
      "cell_type": "code",
      "metadata": {
        "id": "ZDBFEBQA62nX"
      },
      "source": [
        "from minisom import MiniSom\n",
        "\n",
        "som = MiniSom(x=10, y=10, input_len= 15, sigma =1.0, learning_rate=0.5)"
      ],
      "execution_count": 7,
      "outputs": []
    },
    {
      "cell_type": "code",
      "metadata": {
        "id": "w3QK6eJr7kjS"
      },
      "source": [
        "som.random_weights_init(X)\n",
        "\n",
        "som.train_random(X, num_iteration=100)"
      ],
      "execution_count": 8,
      "outputs": []
    },
    {
      "cell_type": "code",
      "metadata": {
        "colab": {
          "base_uri": "https://localhost:8080/",
          "height": 269
        },
        "id": "MelivDLI868G",
        "outputId": "2e09441e-913e-4f04-fedc-8daf086ba9d5"
      },
      "source": [
        "from pylab import bone, pcolor, colorbar, plot, show\n",
        "\n",
        "bone()\n",
        "pcolor(som.distance_map().T)\n",
        "colorbar()\n",
        "markers = ['o', 's']\n",
        "colors = ['r', 'g']\n",
        "for i, x in enumerate(X):\n",
        "    w = som.winner(x)\n",
        "    plot(w[0] + 0.5,\n",
        "         w[1] + 0.5,\n",
        "         markers[y[i]],\n",
        "         markeredgecolor = colors[y[i]],\n",
        "         markerfacecolor = 'None',\n",
        "         markersize = 8,\n",
        "         markeredgewidth = 2)\n",
        "show()"
      ],
      "execution_count": 13,
      "outputs": [
        {
          "output_type": "display_data",
          "data": {
            "image/png": "[encoded data removed]",
            "text/plain": [
              "<Figure size 432x288 with 2 Axes>"
            ]
          },
          "metadata": {
            "needs_background": "light"
          }
        }
      ]
    },
    {
      "cell_type": "code",
      "metadata": {
        "id": "3cvpW6Nl9hZ0"
      },
      "source": [
        "mappings = som.win_map(X)\n",
        "frauds = np.concatenate((mappings[(5,7)], mappings[(8,8)]), axis = 0)\n",
        "frauds = sc.inverse_transform(frauds)"
      ],
      "execution_count": 14,
      "outputs": []
    },
    {
      "cell_type": "code",
      "metadata": {
        "id": "l8dveptzAGdC",
        "colab": {
          "base_uri": "https://localhost:8080/"
        },
        "outputId": "cad80553-eff6-4d58-de09-14a70f85052f"
      },
      "source": [
        "print('Fraud Customer IDs')\n",
        "for i in frauds[:, 0]:\n",
        "  print(int(i))\n",
        "\n",
        "print(len(frauds))"
      ],
      "execution_count": 15,
      "outputs": [
        {
          "output_type": "stream",
          "name": "stdout",
          "text": [
            "Fraud Customer IDs\n",
            "15608595\n",
            "15761158\n",
            "15666166\n",
            "15605872\n",
            "15665087\n",
            "15777994\n",
            "15697310\n",
            "15810723\n",
            "15671293\n",
            "15697844\n",
            "15733602\n",
            "15728082\n",
            "15675176\n",
            "15768449\n",
            "15752601\n",
            "15665374\n",
            "15740356\n",
            "17\n"
          ]
        }
      ]
    },
    {
      "cell_type": "code",
      "metadata": {
        "id": "0oUiUPNgx9XQ"
      },
      "source": [
        "customers = df.iloc[:, 1:].values #matrix of features/independent variables\n",
        "\n",
        "is_fraud = np.array([1 if cid in frauds[:,0] else 0 for cid in df.iloc[:,0].values]) #dependent variable"
      ],
      "execution_count": 16,
      "outputs": []
    },
    {
      "cell_type": "code",
      "metadata": {
        "id": "inbuNofG31Sj"
      },
      "source": [
        "from sklearn.preprocessing import StandardScaler\n",
        "\n",
        "sc = StandardScaler()\n",
        "\n",
        "customers = sc.fit_transform(customers)"
      ],
      "execution_count": 17,
      "outputs": []
    },
    {
      "cell_type": "code",
      "metadata": {
        "id": "GHpRyuaD2NMD"
      },
      "source": [
        "import tensorflow as tf\n",
        "\n",
        "ann = tf.keras.models.Sequential()"
      ],
      "execution_count": 18,
      "outputs": []
    },
    {
      "cell_type": "code",
      "metadata": {
        "colab": {
          "base_uri": "https://localhost:8080/"
        },
        "id": "0C99rNDo2S2T",
        "outputId": "0ab89b2c-5913-4508-a1fd-218fc8e0e74d"
      },
      "source": [
        "ann.add(tf.keras.layers.Dense(units=2, activation='relu'))\n",
        "ann.add(tf.keras.layers.Dense(units=1, activation='sigmoid'))\n",
        "ann.compile(optimizer='adam', loss='binary_crossentropy', metrics=['accuracy'])\n",
        "\n",
        "ann.fit(customers, is_fraud, batch_size=1, epochs=5)"
      ],
      "execution_count": 19,
      "outputs": [
        {
          "output_type": "stream",
          "name": "stdout",
          "text": [
            "Epoch 1/5\n",
            "690/690 [==============================] - 1s 1ms/step - loss: 0.7747 - accuracy: 0.6667\n",
            "Epoch 2/5\n",
            "690/690 [==============================] - 1s 1ms/step - loss: 0.4043 - accuracy: 0.9449\n",
            "Epoch 3/5\n",
            "690/690 [==============================] - 1s 1ms/step - loss: 0.2510 - accuracy: 0.9754\n",
            "Epoch 4/5\n",
            "690/690 [==============================] - 1s 980us/step - loss: 0.1824 - accuracy: 0.9754\n",
            "Epoch 5/5\n",
            "690/690 [==============================] - 1s 999us/step - loss: 0.1452 - accuracy: 0.9754\n"
          ]
        },
        {
          "output_type": "execute_result",
          "data": {
            "text/plain": [
              "<keras.callbacks.History at 0x7f557a38c7d0>"
            ]
          },
          "metadata": {},
          "execution_count": 19
        }
      ]
    },
    {
      "cell_type": "code",
      "metadata": {
        "colab": {
          "base_uri": "https://localhost:8080/"
        },
        "id": "ZIrE-brb3Yel",
        "outputId": "ab95db04-438f-4cd6-b5db-564562d6e257"
      },
      "source": [
        "y_pred = ann.predict(customers)\n",
        "\n",
        "y_pred = np.concatenate((df.iloc[:,0:1].values, y_pred), axis= 1)\n",
        "y_pred = y_pred[y_pred[:,1].argsort()]\n",
        "\n",
        "print(y_pred)"
      ],
      "execution_count": 30,
      "outputs": [
        {
          "output_type": "stream",
          "name": "stdout",
          "text": [
            "[[1.57901130e+07 1.59084797e-04]\n",
            " [1.57101380e+07 1.13227963e-03]\n",
            " [1.57627160e+07 1.29264593e-03]\n",
            " ...\n",
            " [1.57206440e+07 2.28566557e-01]\n",
            " [1.57016870e+07 2.57371843e-01]\n",
            " [1.56712930e+07 3.67111623e-01]]\n"
          ]
        }
      ]
    }
  ]
}